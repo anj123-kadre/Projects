{
  "nbformat": 4,
  "nbformat_minor": 0,
  "metadata": {
    "colab": {
      "provenance": []
    },
    "kernelspec": {
      "name": "python3",
      "display_name": "Python 3"
    },
    "language_info": {
      "name": "python"
    }
  },
  "cells": [
    {
      "cell_type": "markdown",
      "source": [
        "#Recommendation of Hotels based on your Budget"
      ],
      "metadata": {
        "id": "o-uL_xO5-c6o"
      }
    },
    {
      "cell_type": "markdown",
      "source": [
        "#Importing libraries"
      ],
      "metadata": {
        "id": "_RyIoO4V-pUc"
      }
    },
    {
      "cell_type": "code",
      "source": [
        "import numpy as np\n",
        "import pandas as pd\n",
        "\n",
        "import matplotlib.pyplot as plt\n",
        "import seaborn as sns\n"
      ],
      "metadata": {
        "id": "H-Pk1jvm-vWz"
      },
      "execution_count": null,
      "outputs": []
    },
    {
      "cell_type": "markdown",
      "source": [
        "#Importing Dataset"
      ],
      "metadata": {
        "id": "3Ax_dzZY-7yn"
      }
    },
    {
      "cell_type": "code",
      "source": [
        "hotels = pd.read_csv('/content/Hotels.csv')"
      ],
      "metadata": {
        "id": "U23UyI1A_BLV"
      },
      "execution_count": null,
      "outputs": []
    },
    {
      "cell_type": "code",
      "source": [
        "hotels.head()"
      ],
      "metadata": {
        "colab": {
          "base_uri": "https://localhost:8080/",
          "height": 206
        },
        "id": "6vOe75-7ecZx",
        "outputId": "fc05e012-c68b-424d-be46-b7517c1c11ff"
      },
      "execution_count": null,
      "outputs": [
        {
          "output_type": "execute_result",
          "data": {
            "text/plain": [
              "    HID                                              HOTEL  PRICE_RUPEES  \\\n",
              "0  HID1                         HOTEL ANURAAG VILLA JAIPUR        898.92   \n",
              "1  HID2                                      HILTON JAIPUR       2771.67   \n",
              "2  HID3                                    TRIDENT, JAIPUR       4120.05   \n",
              "3  HID4                          THE FERN RESIDENCY JAIPUR       2172.39   \n",
              "4  HID5  ITC RAJPUTANA, JAIPUR A LUXURY COLLECTION HOTE...       3221.13   \n",
              "\n",
              "   NUMBER_OF_REVIEWS        Lat        Lng  \n",
              "0               1305  26.927230  75.789207  \n",
              "1               4358  26.973697  75.844382  \n",
              "2                499  26.957344  75.842886  \n",
              "3                278  26.874359  75.816421  \n",
              "4               6189  26.919313  75.791175  "
            ],
            "text/html": [
              "\n",
              "  <div id=\"df-943b5f04-7924-4002-837a-0fdf4e43775a\">\n",
              "    <div class=\"colab-df-container\">\n",
              "      <div>\n",
              "<style scoped>\n",
              "    .dataframe tbody tr th:only-of-type {\n",
              "        vertical-align: middle;\n",
              "    }\n",
              "\n",
              "    .dataframe tbody tr th {\n",
              "        vertical-align: top;\n",
              "    }\n",
              "\n",
              "    .dataframe thead th {\n",
              "        text-align: right;\n",
              "    }\n",
              "</style>\n",
              "<table border=\"1\" class=\"dataframe\">\n",
              "  <thead>\n",
              "    <tr style=\"text-align: right;\">\n",
              "      <th></th>\n",
              "      <th>HID</th>\n",
              "      <th>HOTEL</th>\n",
              "      <th>PRICE_RUPEES</th>\n",
              "      <th>NUMBER_OF_REVIEWS</th>\n",
              "      <th>Lat</th>\n",
              "      <th>Lng</th>\n",
              "    </tr>\n",
              "  </thead>\n",
              "  <tbody>\n",
              "    <tr>\n",
              "      <th>0</th>\n",
              "      <td>HID1</td>\n",
              "      <td>HOTEL ANURAAG VILLA JAIPUR</td>\n",
              "      <td>898.92</td>\n",
              "      <td>1305</td>\n",
              "      <td>26.927230</td>\n",
              "      <td>75.789207</td>\n",
              "    </tr>\n",
              "    <tr>\n",
              "      <th>1</th>\n",
              "      <td>HID2</td>\n",
              "      <td>HILTON JAIPUR</td>\n",
              "      <td>2771.67</td>\n",
              "      <td>4358</td>\n",
              "      <td>26.973697</td>\n",
              "      <td>75.844382</td>\n",
              "    </tr>\n",
              "    <tr>\n",
              "      <th>2</th>\n",
              "      <td>HID3</td>\n",
              "      <td>TRIDENT, JAIPUR</td>\n",
              "      <td>4120.05</td>\n",
              "      <td>499</td>\n",
              "      <td>26.957344</td>\n",
              "      <td>75.842886</td>\n",
              "    </tr>\n",
              "    <tr>\n",
              "      <th>3</th>\n",
              "      <td>HID4</td>\n",
              "      <td>THE FERN RESIDENCY JAIPUR</td>\n",
              "      <td>2172.39</td>\n",
              "      <td>278</td>\n",
              "      <td>26.874359</td>\n",
              "      <td>75.816421</td>\n",
              "    </tr>\n",
              "    <tr>\n",
              "      <th>4</th>\n",
              "      <td>HID5</td>\n",
              "      <td>ITC RAJPUTANA, JAIPUR A LUXURY COLLECTION HOTE...</td>\n",
              "      <td>3221.13</td>\n",
              "      <td>6189</td>\n",
              "      <td>26.919313</td>\n",
              "      <td>75.791175</td>\n",
              "    </tr>\n",
              "  </tbody>\n",
              "</table>\n",
              "</div>\n",
              "      <button class=\"colab-df-convert\" onclick=\"convertToInteractive('df-943b5f04-7924-4002-837a-0fdf4e43775a')\"\n",
              "              title=\"Convert this dataframe to an interactive table.\"\n",
              "              style=\"display:none;\">\n",
              "        \n",
              "  <svg xmlns=\"http://www.w3.org/2000/svg\" height=\"24px\"viewBox=\"0 0 24 24\"\n",
              "       width=\"24px\">\n",
              "    <path d=\"M0 0h24v24H0V0z\" fill=\"none\"/>\n",
              "    <path d=\"M18.56 5.44l.94 2.06.94-2.06 2.06-.94-2.06-.94-.94-2.06-.94 2.06-2.06.94zm-11 1L8.5 8.5l.94-2.06 2.06-.94-2.06-.94L8.5 2.5l-.94 2.06-2.06.94zm10 10l.94 2.06.94-2.06 2.06-.94-2.06-.94-.94-2.06-.94 2.06-2.06.94z\"/><path d=\"M17.41 7.96l-1.37-1.37c-.4-.4-.92-.59-1.43-.59-.52 0-1.04.2-1.43.59L10.3 9.45l-7.72 7.72c-.78.78-.78 2.05 0 2.83L4 21.41c.39.39.9.59 1.41.59.51 0 1.02-.2 1.41-.59l7.78-7.78 2.81-2.81c.8-.78.8-2.07 0-2.86zM5.41 20L4 18.59l7.72-7.72 1.47 1.35L5.41 20z\"/>\n",
              "  </svg>\n",
              "      </button>\n",
              "      \n",
              "  <style>\n",
              "    .colab-df-container {\n",
              "      display:flex;\n",
              "      flex-wrap:wrap;\n",
              "      gap: 12px;\n",
              "    }\n",
              "\n",
              "    .colab-df-convert {\n",
              "      background-color: #E8F0FE;\n",
              "      border: none;\n",
              "      border-radius: 50%;\n",
              "      cursor: pointer;\n",
              "      display: none;\n",
              "      fill: #1967D2;\n",
              "      height: 32px;\n",
              "      padding: 0 0 0 0;\n",
              "      width: 32px;\n",
              "    }\n",
              "\n",
              "    .colab-df-convert:hover {\n",
              "      background-color: #E2EBFA;\n",
              "      box-shadow: 0px 1px 2px rgba(60, 64, 67, 0.3), 0px 1px 3px 1px rgba(60, 64, 67, 0.15);\n",
              "      fill: #174EA6;\n",
              "    }\n",
              "\n",
              "    [theme=dark] .colab-df-convert {\n",
              "      background-color: #3B4455;\n",
              "      fill: #D2E3FC;\n",
              "    }\n",
              "\n",
              "    [theme=dark] .colab-df-convert:hover {\n",
              "      background-color: #434B5C;\n",
              "      box-shadow: 0px 1px 3px 1px rgba(0, 0, 0, 0.15);\n",
              "      filter: drop-shadow(0px 1px 2px rgba(0, 0, 0, 0.3));\n",
              "      fill: #FFFFFF;\n",
              "    }\n",
              "  </style>\n",
              "\n",
              "      <script>\n",
              "        const buttonEl =\n",
              "          document.querySelector('#df-943b5f04-7924-4002-837a-0fdf4e43775a button.colab-df-convert');\n",
              "        buttonEl.style.display =\n",
              "          google.colab.kernel.accessAllowed ? 'block' : 'none';\n",
              "\n",
              "        async function convertToInteractive(key) {\n",
              "          const element = document.querySelector('#df-943b5f04-7924-4002-837a-0fdf4e43775a');\n",
              "          const dataTable =\n",
              "            await google.colab.kernel.invokeFunction('convertToInteractive',\n",
              "                                                     [key], {});\n",
              "          if (!dataTable) return;\n",
              "\n",
              "          const docLinkHtml = 'Like what you see? Visit the ' +\n",
              "            '<a target=\"_blank\" href=https://colab.research.google.com/notebooks/data_table.ipynb>data table notebook</a>'\n",
              "            + ' to learn more about interactive tables.';\n",
              "          element.innerHTML = '';\n",
              "          dataTable['output_type'] = 'display_data';\n",
              "          await google.colab.output.renderOutput(dataTable, element);\n",
              "          const docLink = document.createElement('div');\n",
              "          docLink.innerHTML = docLinkHtml;\n",
              "          element.appendChild(docLink);\n",
              "        }\n",
              "      </script>\n",
              "    </div>\n",
              "  </div>\n",
              "  "
            ]
          },
          "metadata": {},
          "execution_count": 14
        }
      ]
    },
    {
      "cell_type": "markdown",
      "source": [
        "#Data Preprocessing"
      ],
      "metadata": {
        "id": "a-4rwp6D_P9i"
      }
    },
    {
      "cell_type": "code",
      "source": [
        "hotels.isna().sum()"
      ],
      "metadata": {
        "colab": {
          "base_uri": "https://localhost:8080/"
        },
        "id": "YfAQDjMK_UDY",
        "outputId": "ae661add-7914-4099-e2db-10ada009a461"
      },
      "execution_count": null,
      "outputs": [
        {
          "output_type": "execute_result",
          "data": {
            "text/plain": [
              "HID                  0\n",
              "HOTEL                0\n",
              "PRICE_RUPEES         0\n",
              "NUMBER_OF_REVIEWS    0\n",
              "Lat                  0\n",
              "Lng                  0\n",
              "dtype: int64"
            ]
          },
          "metadata": {},
          "execution_count": 15
        }
      ]
    },
    {
      "cell_type": "markdown",
      "source": [
        "Interpretation:There are no missing values in our dataset"
      ],
      "metadata": {
        "id": "qvYpq5bB_Y-B"
      }
    },
    {
      "cell_type": "code",
      "source": [
        "hotels.info()"
      ],
      "metadata": {
        "colab": {
          "base_uri": "https://localhost:8080/"
        },
        "id": "QTSxIDlj_hQg",
        "outputId": "5576aa84-20c9-4283-aa15-767b4c1aeed3"
      },
      "execution_count": null,
      "outputs": [
        {
          "output_type": "stream",
          "name": "stdout",
          "text": [
            "<class 'pandas.core.frame.DataFrame'>\n",
            "RangeIndex: 254 entries, 0 to 253\n",
            "Data columns (total 6 columns):\n",
            " #   Column             Non-Null Count  Dtype  \n",
            "---  ------             --------------  -----  \n",
            " 0   HID                254 non-null    object \n",
            " 1   HOTEL              254 non-null    object \n",
            " 2   PRICE_RUPEES       254 non-null    float64\n",
            " 3   NUMBER_OF_REVIEWS  254 non-null    int64  \n",
            " 4   Lat                254 non-null    float64\n",
            " 5   Lng                254 non-null    float64\n",
            "dtypes: float64(3), int64(1), object(2)\n",
            "memory usage: 12.0+ KB\n"
          ]
        }
      ]
    },
    {
      "cell_type": "code",
      "source": [
        "hotels.describe()"
      ],
      "metadata": {
        "colab": {
          "base_uri": "https://localhost:8080/",
          "height": 300
        },
        "id": "BJDlHqzP_rp3",
        "outputId": "c85b4109-3721-409a-c00e-23ffd42a90bb"
      },
      "execution_count": null,
      "outputs": [
        {
          "output_type": "execute_result",
          "data": {
            "text/plain": [
              "        PRICE_RUPEES  NUMBER_OF_REVIEWS         Lat         Lng\n",
              "count     254.000000         254.000000  254.000000  254.000000\n",
              "mean     2983.149803         540.582677   26.914314   75.800445\n",
              "std      7420.243135         863.444151    0.043156    0.042395\n",
              "min       150.000000           1.000000   26.767485   75.590469\n",
              "25%      1123.650000          88.500000   26.902572   75.789400\n",
              "50%      1797.840000         212.000000   26.919133   75.796085\n",
              "75%      2846.580000         549.250000   26.928681   75.810282\n",
              "max    112365.000000        6189.000000   27.066656   76.146076"
            ],
            "text/html": [
              "\n",
              "  <div id=\"df-7e228468-4207-48fb-a34f-1d7a421f5f37\">\n",
              "    <div class=\"colab-df-container\">\n",
              "      <div>\n",
              "<style scoped>\n",
              "    .dataframe tbody tr th:only-of-type {\n",
              "        vertical-align: middle;\n",
              "    }\n",
              "\n",
              "    .dataframe tbody tr th {\n",
              "        vertical-align: top;\n",
              "    }\n",
              "\n",
              "    .dataframe thead th {\n",
              "        text-align: right;\n",
              "    }\n",
              "</style>\n",
              "<table border=\"1\" class=\"dataframe\">\n",
              "  <thead>\n",
              "    <tr style=\"text-align: right;\">\n",
              "      <th></th>\n",
              "      <th>PRICE_RUPEES</th>\n",
              "      <th>NUMBER_OF_REVIEWS</th>\n",
              "      <th>Lat</th>\n",
              "      <th>Lng</th>\n",
              "    </tr>\n",
              "  </thead>\n",
              "  <tbody>\n",
              "    <tr>\n",
              "      <th>count</th>\n",
              "      <td>254.000000</td>\n",
              "      <td>254.000000</td>\n",
              "      <td>254.000000</td>\n",
              "      <td>254.000000</td>\n",
              "    </tr>\n",
              "    <tr>\n",
              "      <th>mean</th>\n",
              "      <td>2983.149803</td>\n",
              "      <td>540.582677</td>\n",
              "      <td>26.914314</td>\n",
              "      <td>75.800445</td>\n",
              "    </tr>\n",
              "    <tr>\n",
              "      <th>std</th>\n",
              "      <td>7420.243135</td>\n",
              "      <td>863.444151</td>\n",
              "      <td>0.043156</td>\n",
              "      <td>0.042395</td>\n",
              "    </tr>\n",
              "    <tr>\n",
              "      <th>min</th>\n",
              "      <td>150.000000</td>\n",
              "      <td>1.000000</td>\n",
              "      <td>26.767485</td>\n",
              "      <td>75.590469</td>\n",
              "    </tr>\n",
              "    <tr>\n",
              "      <th>25%</th>\n",
              "      <td>1123.650000</td>\n",
              "      <td>88.500000</td>\n",
              "      <td>26.902572</td>\n",
              "      <td>75.789400</td>\n",
              "    </tr>\n",
              "    <tr>\n",
              "      <th>50%</th>\n",
              "      <td>1797.840000</td>\n",
              "      <td>212.000000</td>\n",
              "      <td>26.919133</td>\n",
              "      <td>75.796085</td>\n",
              "    </tr>\n",
              "    <tr>\n",
              "      <th>75%</th>\n",
              "      <td>2846.580000</td>\n",
              "      <td>549.250000</td>\n",
              "      <td>26.928681</td>\n",
              "      <td>75.810282</td>\n",
              "    </tr>\n",
              "    <tr>\n",
              "      <th>max</th>\n",
              "      <td>112365.000000</td>\n",
              "      <td>6189.000000</td>\n",
              "      <td>27.066656</td>\n",
              "      <td>76.146076</td>\n",
              "    </tr>\n",
              "  </tbody>\n",
              "</table>\n",
              "</div>\n",
              "      <button class=\"colab-df-convert\" onclick=\"convertToInteractive('df-7e228468-4207-48fb-a34f-1d7a421f5f37')\"\n",
              "              title=\"Convert this dataframe to an interactive table.\"\n",
              "              style=\"display:none;\">\n",
              "        \n",
              "  <svg xmlns=\"http://www.w3.org/2000/svg\" height=\"24px\"viewBox=\"0 0 24 24\"\n",
              "       width=\"24px\">\n",
              "    <path d=\"M0 0h24v24H0V0z\" fill=\"none\"/>\n",
              "    <path d=\"M18.56 5.44l.94 2.06.94-2.06 2.06-.94-2.06-.94-.94-2.06-.94 2.06-2.06.94zm-11 1L8.5 8.5l.94-2.06 2.06-.94-2.06-.94L8.5 2.5l-.94 2.06-2.06.94zm10 10l.94 2.06.94-2.06 2.06-.94-2.06-.94-.94-2.06-.94 2.06-2.06.94z\"/><path d=\"M17.41 7.96l-1.37-1.37c-.4-.4-.92-.59-1.43-.59-.52 0-1.04.2-1.43.59L10.3 9.45l-7.72 7.72c-.78.78-.78 2.05 0 2.83L4 21.41c.39.39.9.59 1.41.59.51 0 1.02-.2 1.41-.59l7.78-7.78 2.81-2.81c.8-.78.8-2.07 0-2.86zM5.41 20L4 18.59l7.72-7.72 1.47 1.35L5.41 20z\"/>\n",
              "  </svg>\n",
              "      </button>\n",
              "      \n",
              "  <style>\n",
              "    .colab-df-container {\n",
              "      display:flex;\n",
              "      flex-wrap:wrap;\n",
              "      gap: 12px;\n",
              "    }\n",
              "\n",
              "    .colab-df-convert {\n",
              "      background-color: #E8F0FE;\n",
              "      border: none;\n",
              "      border-radius: 50%;\n",
              "      cursor: pointer;\n",
              "      display: none;\n",
              "      fill: #1967D2;\n",
              "      height: 32px;\n",
              "      padding: 0 0 0 0;\n",
              "      width: 32px;\n",
              "    }\n",
              "\n",
              "    .colab-df-convert:hover {\n",
              "      background-color: #E2EBFA;\n",
              "      box-shadow: 0px 1px 2px rgba(60, 64, 67, 0.3), 0px 1px 3px 1px rgba(60, 64, 67, 0.15);\n",
              "      fill: #174EA6;\n",
              "    }\n",
              "\n",
              "    [theme=dark] .colab-df-convert {\n",
              "      background-color: #3B4455;\n",
              "      fill: #D2E3FC;\n",
              "    }\n",
              "\n",
              "    [theme=dark] .colab-df-convert:hover {\n",
              "      background-color: #434B5C;\n",
              "      box-shadow: 0px 1px 3px 1px rgba(0, 0, 0, 0.15);\n",
              "      filter: drop-shadow(0px 1px 2px rgba(0, 0, 0, 0.3));\n",
              "      fill: #FFFFFF;\n",
              "    }\n",
              "  </style>\n",
              "\n",
              "      <script>\n",
              "        const buttonEl =\n",
              "          document.querySelector('#df-7e228468-4207-48fb-a34f-1d7a421f5f37 button.colab-df-convert');\n",
              "        buttonEl.style.display =\n",
              "          google.colab.kernel.accessAllowed ? 'block' : 'none';\n",
              "\n",
              "        async function convertToInteractive(key) {\n",
              "          const element = document.querySelector('#df-7e228468-4207-48fb-a34f-1d7a421f5f37');\n",
              "          const dataTable =\n",
              "            await google.colab.kernel.invokeFunction('convertToInteractive',\n",
              "                                                     [key], {});\n",
              "          if (!dataTable) return;\n",
              "\n",
              "          const docLinkHtml = 'Like what you see? Visit the ' +\n",
              "            '<a target=\"_blank\" href=https://colab.research.google.com/notebooks/data_table.ipynb>data table notebook</a>'\n",
              "            + ' to learn more about interactive tables.';\n",
              "          element.innerHTML = '';\n",
              "          dataTable['output_type'] = 'display_data';\n",
              "          await google.colab.output.renderOutput(dataTable, element);\n",
              "          const docLink = document.createElement('div');\n",
              "          docLink.innerHTML = docLinkHtml;\n",
              "          element.appendChild(docLink);\n",
              "        }\n",
              "      </script>\n",
              "    </div>\n",
              "  </div>\n",
              "  "
            ]
          },
          "metadata": {},
          "execution_count": 17
        }
      ]
    },
    {
      "cell_type": "markdown",
      "source": [
        "#Recommendation Based on your Budget"
      ],
      "metadata": {
        "id": "p0jKTMgoBKmE"
      }
    },
    {
      "cell_type": "code",
      "source": [
        "hotels.loc[hotels['PRICE_RUPEES'] <500, 'HOTEL']"
      ],
      "metadata": {
        "colab": {
          "base_uri": "https://localhost:8080/"
        },
        "id": "IWQo6UE0BWsB",
        "outputId": "e5212591-3359-42dc-dff0-afd603e811b1"
      },
      "execution_count": null,
      "outputs": [
        {
          "output_type": "execute_result",
          "data": {
            "text/plain": [
              "117                  HOTEL BHARAT PALACE JAIPUR\n",
              "147                HOTEL GOLDEN HERITAGE JAIPUR\n",
              "148                      BANI PARK HOTEL JAIPUR\n",
              "150                 HOUSE OF BACKPACKERS JAIPUR\n",
              "170                         NANUS HOSTEL JAIPUR\n",
              "192                JAIPUR SUNDECK HOSTEL JAIPUR\n",
              "204    CHITCHAT RESTAURANT & GUEST HOUSE JAIPUR\n",
              "252                        THE HOSTELLER JAIPUR\n",
              "253                               HOZTEL JAIPUR\n",
              "Name: HOTEL, dtype: object"
            ]
          },
          "metadata": {},
          "execution_count": 18
        }
      ]
    },
    {
      "cell_type": "code",
      "source": [
        "hotels.loc[hotels['PRICE_RUPEES'] >=1000, 'HOTEL']"
      ],
      "metadata": {
        "colab": {
          "base_uri": "https://localhost:8080/"
        },
        "id": "Qxo0E_8HBWx2",
        "outputId": "13e4b54e-8c3e-4612-e086-3441b43159ea"
      },
      "execution_count": null,
      "outputs": [
        {
          "output_type": "execute_result",
          "data": {
            "text/plain": [
              "1                                          HILTON JAIPUR\n",
              "2                                        TRIDENT, JAIPUR\n",
              "3                              THE FERN RESIDENCY JAIPUR\n",
              "4      ITC RAJPUTANA, JAIPUR A LUXURY COLLECTION HOTE...\n",
              "5                  HOLIDAY INN JAIPUR CITY CENTRE JAIPUR\n",
              "                             ...                        \n",
              "246                                   HOTEL SAVOY JAIPUR\n",
              "247                          HOTEL JAI MAA PALACE JAIPUR\n",
              "248                               THE PRIME HOTEL JAIPUR\n",
              "249                          COMFORT INN SAPPHIRE JAIPUR\n",
              "251                            GIRISADAN HOMESTAY JAIPUR\n",
              "Name: HOTEL, Length: 202, dtype: object"
            ]
          },
          "metadata": {},
          "execution_count": 19
        }
      ]
    },
    {
      "cell_type": "code",
      "source": [
        "hotels.loc[hotels['PRICE_RUPEES'] <500, 'HOTEL']"
      ],
      "metadata": {
        "colab": {
          "base_uri": "https://localhost:8080/"
        },
        "id": "hvNRkKomBkVf",
        "outputId": "2484d693-ff4c-4af8-d8de-b13042fd0d6e"
      },
      "execution_count": null,
      "outputs": [
        {
          "output_type": "execute_result",
          "data": {
            "text/plain": [
              "117                  HOTEL BHARAT PALACE JAIPUR\n",
              "147                HOTEL GOLDEN HERITAGE JAIPUR\n",
              "148                      BANI PARK HOTEL JAIPUR\n",
              "150                 HOUSE OF BACKPACKERS JAIPUR\n",
              "170                         NANUS HOSTEL JAIPUR\n",
              "192                JAIPUR SUNDECK HOSTEL JAIPUR\n",
              "204    CHITCHAT RESTAURANT & GUEST HOUSE JAIPUR\n",
              "252                        THE HOSTELLER JAIPUR\n",
              "253                               HOZTEL JAIPUR\n",
              "Name: HOTEL, dtype: object"
            ]
          },
          "metadata": {},
          "execution_count": 20
        }
      ]
    },
    {
      "cell_type": "code",
      "source": [
        "hotels.loc[hotels['PRICE_RUPEES'] >=100000, 'HOTEL']"
      ],
      "metadata": {
        "colab": {
          "base_uri": "https://localhost:8080/"
        },
        "id": "qJg2L9PUB8cA",
        "outputId": "3526b3e4-3cb9-4fed-8e76-a198df458abc"
      },
      "execution_count": null,
      "outputs": [
        {
          "output_type": "execute_result",
          "data": {
            "text/plain": [
              "206    UMAID FARM RESORT-A LEGACY VINTAGE STAY IN JAIPUR\n",
              "Name: HOTEL, dtype: object"
            ]
          },
          "metadata": {},
          "execution_count": 21
        }
      ]
    }
  ]
}