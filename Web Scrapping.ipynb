{
 "cells": [
  {
   "cell_type": "code",
   "execution_count": 2,
   "metadata": {},
   "outputs": [],
   "source": [
    "import logging\n",
    "import datetime\n",
    "import time\n",
    "#from sitemap_parser import SitemapParser\n",
    "import pandas as pd\n",
    "from selenium import webdriver\n",
    "from selenium.common.exceptions import NoSuchElementException, NoSuchAttributeException, InvalidSelectorException\n",
    "from webdriver_manager.chrome import ChromeDriverManager\n",
    "from selenium.webdriver.chrome.options import Options\n",
    "from bs4 import BeautifulSoup\n",
    "import codecs\n",
    "import re\n",
    "import requests\n",
    "import json\n",
    "import pprint as pprint"
   ]
  },
  {
   "cell_type": "code",
   "execution_count": null,
   "metadata": {},
   "outputs": [],
   "source": [
    "def chocolatewithgrace_crawler(self, path):\n",
    "        \"\"\"\n",
    "        :param urls: Urls to parse.\n",
    "        :param url_id: url_id from input table.\n",
    "        :param website_id: site_id from input table.\n",
    "        :param website_name: site_name.\n",
    "        :return: Data points from website.\n",
    "        \"\"\"\n",
    "        start_datetime = datetime.datetime.utcnow()\n",
    "        path= 'C:/Users/Dell/Downloads/smart-cookie/chocolatewithgrace/'\n",
    "        files = os.listdir(path)\n",
    "        count = 0\n",
    "        for i in range(len(files)):\n",
    "            count = count + 1\n",
    "            logger.info('Loop Count %d, DF index Count %d', count, len(self.buffer_data_df.index))\n",
    "            files[i] = path + '/' + files[i]\n",
    "            file = codecs.open(files[i], \"r\", \"utf-8\")\n",
    "            soup = BeautifulSoup(file.read(), features=\"lxml\")\n",
    "            info_container = soup.select_one('div.wprm-recipe-container')\n",
    "            if info_container:\n",
    "                content_series = self.get_empty_content_series()\n",
    "                content_series[\"crawl_timestamp\"] = datetime.datetime.utcnow().strftime('%Y-%m-%d %H:%M:%S')\n",
    "                content_series[\"url_id\"] = self.site_doc['url_id']\n",
    "                content_series[\"website_id\"] = self.site_doc['site_id']\n",
    "                content_series[\"website_name\"] = self.site_doc['site_name']\n",
    "\n",
    "                try:\n",
    "                    title = soup.select_one('h2.wprm-recipe-name')\n",
    "                    content_series['recipe_title'] = title.text\n",
    "                except:\n",
    "                    content_series['recipe_title'] = \"\"    \n",
    "\n",
    "                try:\n",
    "                    content_series['recipe_url'] = soup.select_one('meta[property=\"og:url\"]')['content']\n",
    "                except:\n",
    "                    content_series['recipe_url'] = \"\"    \n",
    "\n",
    "                try:\n",
    "                    author_name = soup.select_one('h4.author-box__title').text\n",
    "                    content_series['author_name'] = author_name\n",
    "                except:\n",
    "                    content_series['author_name']= ''\n",
    "                    \n",
    "                try:\n",
    "                    try:\n",
    "                        value = soup.select_one('span.wprm-recipe-servings.wprm-recipe-details.wprm-recipe-servings').text\n",
    "                    except:\n",
    "                        value = \"\"\n",
    "                    try:\n",
    "                        unit = soup.select_one('span.wprm-recipe-servings-unit.wprm-recipe-details-unit.wprm-block-text-normal').text\n",
    "                    except:\n",
    "                        unit = \"\"\n",
    "                    serving_size = {'value': value, 'unit': unit}\n",
    "                    content_series['serving_size'] = serving_size\n",
    "                except:\n",
    "                    content_series['serving_size'] = \"\"       \n",
    "\n",
    "                try:\n",
    "                    modified_date = soup.select_one('meta[property=\"article:modified_time\"]')\n",
    "                    content_series['modified_date'] = modified_date['content'].split('T')[0]\n",
    "                except:\n",
    "                    content_series['modified_date'] = \"\"\n",
    "\n",
    "                try:\n",
    "                    published_date = soup.select_one('meta[property=\"article:published_time\"]')\n",
    "                    content_series['published_date'] = published_date['content'].split('T')[0]\n",
    "                except:\n",
    "                    content_series['published_date'] = \"\" \n",
    "                \n",
    "                try:\n",
    "                    cuisine = info_container.select_one(\"span.wprm-recipe-cuisine\")\n",
    "                    if cuisine:\n",
    "                        content_series['cuisine'] = cuisine.text\n",
    "                except:\n",
    "                    content_series['cuisine'] = \"\"\n",
    "                \n",
    "                try:\n",
    "                    meal_course = soup.select_one(\"span.wprm-recipe-course\")\n",
    "                    if meal_course:\n",
    "                        content_series['meal_course'] = meal_course.text\n",
    "                except:\n",
    "                    content_series['meal_course'] = \"\"\n",
    "\n",
    "                time_data = {'hours': 0, 'minutes': 0, 'days': 0}\n",
    "                try:\n",
    "                    try:\n",
    "                        preperation_time_minutes = info_container.select_one(\"span.wprm-recipe-details.wprm-recipe-details-minutes.wprm-recipe-prep_time.wprm-recipe-prep_time-minutes\")\n",
    "                        if preperation_time_minutes:\n",
    "                            time_data['minutes'] = preperation_time_minutes.text\n",
    "                    except:\n",
    "                        time_data['minutes'] = \"0\"\n",
    "                    try:\n",
    "                        preperation_time_hours = info_container.select_one(\"span.wprm-recipe-details.wprm-recipe-details-hours.wprm-recipe-prep_time.wprm-recipe-prep_time-hours\")\n",
    "                        if preperation_time_hours:\n",
    "                            time_data['hours'] = preperation_time_hours.text\n",
    "                    except:\n",
    "                        time_data['hours'] = \"0\"\n",
    "                    try:\n",
    "                        preperation_time_days = info_container.select_one(\"span.wprm-recipe-details.wprm-recipe-details-days.wprm-recipe-prep_time.wprm-recipe-prep_time-days\")\n",
    "                        if preperation_time_days:\n",
    "                            time_data['days'] = preperation_time_days.text\n",
    "                    except:\n",
    "                        time_data['days'] = \"0\"\n",
    "                    content_series['preperation_time'] = int(time_data['minutes'])+int(time_data['hours'])*60+int(time_data['days'])*24*60\n",
    "                except:\n",
    "                    content_series['preperation_time'] = \"\"\n",
    "\n",
    "                time_data = {'hours': 0, 'minutes': 0, 'days': 0}\n",
    "                try:\n",
    "                    try:\n",
    "                        cooking_time_minutes = info_container.select_one(\"span.wprm-recipe-details.wprm-recipe-details-minutes.wprm-recipe-cook_time.wprm-recipe-cook_time-minutes\")\n",
    "                        if cooking_time_minutes:\n",
    "                            time_data['minutes'] = cooking_time_minutes.text\n",
    "                    except:\n",
    "                        time_data['minutes'] = \"0\"\n",
    "                    try:\n",
    "                        cooking_time_hours = info_container.select_one(\"span.wprm-recipe-details.wprm-recipe-details-hours.wprm-recipe-cook_time.wprm-recipe-cook_time-hours\")\n",
    "                        if cooking_time_hours:\n",
    "                            time_data['hours'] = cooking_time_hours.text\n",
    "                    except:\n",
    "                        time_data['hours'] = \"0\"\n",
    "                    try:\n",
    "                        cooking_time_days = info_container.select_one(\"span.wprm-recipe-details.wprm-recipe-details-days.wprm-recipe-cook_time.wprm-recipe-cook_time-days\")\n",
    "                        if cooking_time_days:\n",
    "                            time_data['days'] = cooking_time_days.text\n",
    "                    except:\n",
    "                        time_data['days'] = \"0\"\n",
    "                    content_series['cooking_time'] = int(time_data['minutes'])+int(time_data['hours'])*60+int(time_data['days'])*24*60\n",
    "                except:\n",
    "                    content_series['cooking_time'] = \"\"\n",
    "\n",
    "                time_data = {'hours': 0, 'minutes': 0, 'days': 0}\n",
    "                try:\n",
    "                    try:\n",
    "                        total_time_minutes = info_container.select_one(\"span.wprm-recipe-details.wprm-recipe-details-minutes.wprm-recipe-total_time.wprm-recipe-total_time-minutes\")\n",
    "                        if total_time_minutes:\n",
    "                            time_data['minutes'] = total_time_minutes.text\n",
    "                    except:\n",
    "                        time_data['minutes'] = \"0\"\n",
    "                    try:\n",
    "                        total_time_hours = info_container.select_one(\"span.wprm-recipe-details.wprm-recipe-details-hours.wprm-recipe-total_time.wprm-recipe-total_time-hours\")\n",
    "                        if total_time_hours:\n",
    "                            time_data['hours'] = total_time_hours.text\n",
    "                    except:\n",
    "                        time_data['hours'] = \"0\"\n",
    "                    try:\n",
    "                        total_time_days = info_container.select_one(\"span.wprm-recipe-details.wprm-recipe-details-days.wprm-recipe-total_time.wprm-recipe-total_time-days\")\n",
    "                        if total_time_days:\n",
    "                            time_data['days'] = total_time_days.text\n",
    "                    except:\n",
    "                        time_data['days'] = \"0\"\n",
    "                    content_series['total_time'] = int(time_data['minutes'])+int(time_data['hours'])*60+int(time_data['days'])*24*60\n",
    "                except:\n",
    "                    content_series['total_time'] = \"\"\n",
    "\n",
    "               \n",
    "                try:\n",
    "                    image = soup.select_one('meta[property=\"og:image\"]')['content']\n",
    "                    images_dict = {'image':image, 'title': '', 'caption': ''}\n",
    "                    content_series[\"img_urls\"] = [images_dict]\n",
    "                except:\n",
    "                    content_series['img_urls'] = []\n",
    "                \n",
    "                try:\n",
    "                    description = soup.select_one('meta[property=\"og:description\"]')['content']\n",
    "                    content_series['recipe_description'] = description\n",
    "                except:\n",
    "                    pass\n",
    "                    \n",
    "                ingredients_lst = []\n",
    "                ingredient_container = soup.select_one('div.wprm-recipe-ingredients-container')\n",
    "                if ingredient_container:\n",
    "                    group_sections = ingredient_container.select('div.wprm-recipe-ingredient-group')\n",
    "                    for section in group_sections:\n",
    "                        ingredients = []\n",
    "                        section_text = ''\n",
    "                        section_tag = section.find('h4')\n",
    "                        if section_tag:\n",
    "                            section_text = section_tag.text\n",
    "                        lists = section.select('ul>li.wprm-recipe-ingredient')\n",
    "                        for li in lists:\n",
    "                            ingredent_data = {'section': '', 'ingredients': []}\n",
    "                            ingredient = li.find_all('span')\n",
    "                            str1 = \"\"\n",
    "                            for ele in ingredient:\n",
    "                                if '▢' in ele.text:\n",
    "                                    str1 = str1 + ' ' + ele.text.strip('▢')\n",
    "                                else:\n",
    "                                    str1 = str1 + ' ' + ele.text\n",
    "                            ingredients.append(str1.strip())\n",
    "                        ingredients_lst.append({'section': section_text, 'ingredients': ingredients})\n",
    "                content_series[\"recipe_ingredient_list\"] = ingredients_lst\n",
    "\n",
    "                instructions_list = []\n",
    "                title = ''\n",
    "                instructions = soup.select('div.wprm-recipe-instruction-group>ul>li')\n",
    "                instruction_lst = []\n",
    "                for inst in instructions:\n",
    "                    isnt_data = {'text': '', 'title': '', 'image': '', 'caption': ''}\n",
    "                    isnt_data['text'] = inst.text\n",
    "                    instruction_lst.append(isnt_data)\n",
    "                instructions_list.append({'section': title, 'instructions': instruction_lst})\n",
    "                content_series[\"recipe_instructions\"] = instructions_list\n",
    "                instruction_container = soup.select_one('div.wprm-recipe-instruction-group')\n",
    "                if instruction_container:\n",
    "                    content_series[\"recipe_instructions_html\"] = str(instruction_container)\n",
    "                \n",
    "                self.parsed_data_df = self.parsed_data_df.append(content_series, ignore_index=True)\n",
    "                self.buffer_data_df = self.buffer_data_df.append(content_series, ignore_index=True)\n",
    "                if len(self.buffer_data_df.index) % 10 == 0:\n",
    "                    self.buffer_data_df = self.buffer_data_df.replace({np.nan: None})\n",
    "                    self.parsed_data_df = self.parsed_data_df.replace({np.nan: None})\n",
    "                    recipe_content = self.buffer_data_df.to_dict('records')\n",
    "                    recipe_urls = self.buffer_data_df[['recipe_url']].rename(\n",
    "                        columns={'recipe_url': 'url'}).to_dict('records')\n",
    "                    self._store_to_db(recipe_content, recipe_urls)\n",
    "                    self.parsed_data_df.to_csv(self.site_doc['site_name'] + '.csv', index=False)\n",
    "                    logger_stats.info('Start Time: %s, Total Dumps: %d, Elapsed Time: %s',\n",
    "                                    start_datetime,\n",
    "                                    len(self.buffer_data_df.index),\n",
    "                                    datetime.datetime.utcnow() - start_datetime)\n",
    "                    self.buffer_data_df.drop(self.buffer_data_df.index, inplace=True)\n",
    "        if len(self.buffer_data_df.index):\n",
    "            self.buffer_data_df = self.buffer_data_df.replace({np.nan: None})\n",
    "            recipe_content = self.buffer_data_df.to_dict('records')\n",
    "            recipe_url = self.buffer_data_df[['recipe_url']].rename(\n",
    "                columns={'recipe_url': 'url'}).to_dict('records')\n",
    "            self._store_to_db(recipe_content, recipe_url)\n",
    "            self.parsed_data_df = self.parsed_data_df.replace({np.nan: None})\n",
    "            self.parsed_data_df.to_csv(self.site_doc['site_name'] + '.csv', index=False)\n",
    "        logger_stats.info('Start Time: %s, Total Dumps: %d, Elapsed Time: %s',\n",
    "                        start_datetime,\n",
    "                        len(self.buffer_data_df.index),\n",
    "                        datetime.datetime.utcnow() - start_datetime)"
   ]
  },
  {
   "cell_type": "code",
   "execution_count": 2,
   "metadata": {},
   "outputs": [],
   "source": [
    "url = 'https://chocolatewithgrace.com/bbq-chicken-pizza/'\n",
    "r = requests.get(url)\n",
    "soup = BeautifulSoup(r.text, 'lxml') "
   ]
  },
  {
   "cell_type": "code",
   "execution_count": 6,
   "metadata": {},
   "outputs": [],
   "source": [
    "url = 'https://chocolatewithgrace.com/buttery-dinner-rolls/#wprm-recipe-container-3720'\n",
    "r = requests.get(url)\n",
    "soup = BeautifulSoup(r.text, 'lxml') "
   ]
  },
  {
   "cell_type": "code",
   "execution_count": 7,
   "metadata": {},
   "outputs": [
    {
     "data": {
      "text/plain": [
       "'Buttery Dinner Rolls'"
      ]
     },
     "execution_count": 7,
     "metadata": {},
     "output_type": "execute_result"
    }
   ],
   "source": [
    "title = soup.select_one('h2.wprm-recipe-name')\n",
    "title.text"
   ]
  },
  {
   "cell_type": "code",
   "execution_count": 27,
   "metadata": {},
   "outputs": [
    {
     "data": {
      "text/plain": [
       "'https://chocolatewithgrace.com/bbq-chicken-pizza/'"
      ]
     },
     "execution_count": 27,
     "metadata": {},
     "output_type": "execute_result"
    }
   ],
   "source": [
    "recipe_url = soup.select_one('meta[property=\"og:url\"]')['content']\n",
    "recipe_url"
   ]
  },
  {
   "cell_type": "code",
   "execution_count": 28,
   "metadata": {},
   "outputs": [
    {
     "data": {
      "text/plain": [
       "'Mary'"
      ]
     },
     "execution_count": 28,
     "metadata": {},
     "output_type": "execute_result"
    }
   ],
   "source": [
    "author_name = soup.select_one('h4.author-box__title').text\n",
    "author_name"
   ]
  },
  {
   "cell_type": "code",
   "execution_count": 6,
   "metadata": {},
   "outputs": [
    {
     "data": {
      "text/plain": [
       "'4'"
      ]
     },
     "execution_count": 6,
     "metadata": {},
     "output_type": "execute_result"
    }
   ],
   "source": [
    "value = soup.select_one('span.wprm-recipe-servings.wprm-recipe-details.wprm-recipe-servings').text\n",
    "value"
   ]
  },
  {
   "cell_type": "code",
   "execution_count": 7,
   "metadata": {},
   "outputs": [
    {
     "data": {
      "text/plain": [
       "'servings'"
      ]
     },
     "execution_count": 7,
     "metadata": {},
     "output_type": "execute_result"
    }
   ],
   "source": [
    "unit = soup.select_one('span.wprm-recipe-servings-unit.wprm-recipe-details-unit.wprm-block-text-normal').text\n",
    "unit"
   ]
  },
  {
   "cell_type": "code",
   "execution_count": 8,
   "metadata": {},
   "outputs": [
    {
     "data": {
      "text/plain": [
       "{'value': '4', 'unit': 'servings'}"
      ]
     },
     "execution_count": 8,
     "metadata": {},
     "output_type": "execute_result"
    }
   ],
   "source": [
    "serving_size = {'value': value, 'unit': unit}\n",
    "serving_size"
   ]
  },
  {
   "cell_type": "code",
   "execution_count": 9,
   "metadata": {},
   "outputs": [
    {
     "data": {
      "text/plain": [
       "'2022-02-26'"
      ]
     },
     "execution_count": 9,
     "metadata": {},
     "output_type": "execute_result"
    }
   ],
   "source": [
    "modified_date = soup.select_one('meta[property=\"article:modified_time\"]')\n",
    "modified_date = modified_date['content'].split('T')[0]\n",
    "modified_date"
   ]
  },
  {
   "cell_type": "code",
   "execution_count": 10,
   "metadata": {},
   "outputs": [
    {
     "data": {
      "text/plain": [
       "'2022-03-10'"
      ]
     },
     "execution_count": 10,
     "metadata": {},
     "output_type": "execute_result"
    }
   ],
   "source": [
    "published_date = soup.select_one('meta[property=\"article:published_time\"]')\n",
    "published_date = published_date['content'].split('T')[0]\n",
    "published_date"
   ]
  },
  {
   "cell_type": "code",
   "execution_count": 26,
   "metadata": {},
   "outputs": [
    {
     "data": {
      "text/plain": [
       "'30'"
      ]
     },
     "execution_count": 26,
     "metadata": {},
     "output_type": "execute_result"
    }
   ],
   "source": [
    "preperation_time_minutes = soup.select_one(\"span.wprm-recipe-details.wprm-recipe-details-minutes.wprm-recipe-prep_time.wprm-recipe-prep_time-minutes\")\n",
    "preperation_time_minutes.text"
   ]
  },
  {
   "cell_type": "code",
   "execution_count": 27,
   "metadata": {},
   "outputs": [
    {
     "data": {
      "text/plain": [
       "'15'"
      ]
     },
     "execution_count": 27,
     "metadata": {},
     "output_type": "execute_result"
    }
   ],
   "source": [
    "cooking_time_minutes = soup.select_one(\"span.wprm-recipe-details.wprm-recipe-details-minutes.wprm-recipe-cook_time.wprm-recipe-cook_time-minutes\")\n",
    "cooking_time_minutes.text"
   ]
  },
  {
   "cell_type": "code",
   "execution_count": 28,
   "metadata": {},
   "outputs": [
    {
     "data": {
      "text/plain": [
       "'45'"
      ]
     },
     "execution_count": 28,
     "metadata": {},
     "output_type": "execute_result"
    }
   ],
   "source": [
    "total_time_minutes = soup.select_one(\"span.wprm-recipe-details.wprm-recipe-details-minutes.wprm-recipe-total_time.wprm-recipe-total_time-minutes\")\n",
    "total_time_minutes.text"
   ]
  },
  {
   "cell_type": "code",
   "execution_count": null,
   "metadata": {},
   "outputs": [],
   "source": [
    "wprm-recipe-details-label wprm-block-text-bold wprm-recipe-time-label wprm-recipe-custom-time-label"
   ]
  },
  {
   "cell_type": "code",
   "execution_count": null,
   "metadata": {},
   "outputs": [],
   "source": [
    "wprm-recipe-details-label wprm-block-text-bold wprm-recipe-time-label wprm-recipe-custom-time-label"
   ]
  },
  {
   "cell_type": "code",
   "execution_count": null,
   "metadata": {},
   "outputs": [],
   "source": [
    "wprm-recipe-block-container wprm-recipe-block-container-inline wprm-block-text-normal wprm-recipe-time-container wprm-recipe-custom-time-container"
   ]
  },
  {
   "cell_type": "code",
   "execution_count": null,
   "metadata": {},
   "outputs": [],
   "source": [
    "wprm-recipe-details wprm-recipe-details-hours wprm-recipe-custom_time wprm-recipe-custom_time-hours"
   ]
  },
  {
   "cell_type": "code",
   "execution_count": 22,
   "metadata": {},
   "outputs": [],
   "source": [
    "#      Additional time\n",
    "time_data = {'hours': 0, 'minutes': 0, 'days': 0}\n",
    "try:\n",
    "\n",
    "    try:\n",
    "\n",
    "        custom_time_minutes = self.find_element_by_xpath(\n",
    "            \"//span[@class='wprm-recipe-details wprm-recipe-details-minutes wprm-recipe-custom_time wprm-recipe-custom_time-minutes']\")\n",
    "        if custom_time_minutes:\n",
    "            time_data['minutes'] = custom_time_minutes.text\n",
    "    except:\n",
    "        time_data['minutes'] = \"0\"\n",
    "\n",
    "    try:\n",
    "        custom_time_hours = self.find_element_by_xpath(\n",
    "            \"//span[@class='wprm-recipe-details wprm-recipe-details-hours wprm-recipe-custom_time wprm-recipe-custom_time-hours']\")\n",
    "        if custom_time_hours:\n",
    "            time_data['hours'] = custom_time_hours.text\n",
    "    except:\n",
    "        time_data['hours'] = \"0\"\n",
    "\n",
    "    try:\n",
    "        custom_time_days = self.find_element_by_xpath(\n",
    "            \"//span[@class='wprm-recipe-details wprm-recipe-details-days wprm-recipe-custom_time wprm-recipe-custom_time-days']\")\n",
    "        if custom_time_days:\n",
    "            time_data['days'] = custom_time_days.text\n",
    "    except:\n",
    "        time_data['days'] = \"0\"\n",
    "\n",
    "    additional_time = time_data\n",
    "\n",
    "except:\n",
    "    additional_time = \"\""
   ]
  },
  {
   "cell_type": "code",
   "execution_count": 23,
   "metadata": {},
   "outputs": [
    {
     "data": {
      "text/plain": [
       "{'hours': '0', 'minutes': '0', 'days': '0'}"
      ]
     },
     "execution_count": 23,
     "metadata": {},
     "output_type": "execute_result"
    }
   ],
   "source": [
    "additional_time"
   ]
  },
  {
   "cell_type": "code",
   "execution_count": 44,
   "metadata": {},
   "outputs": [],
   "source": [
    "#      Additional time\n",
    "time_data = {'hours': 0, 'minutes': 0, 'days': 0}\n",
    "try:\n",
    "\n",
    "    try:\n",
    "\n",
    "        custom_time_minutes = soup.select_one(\"span.wprm-recipe-details.wprm-recipe-details-minutes.wprm-recipe-custom_time.wprm-recipe-custom_time-minutes\")\n",
    "        if custom_time_minutes:\n",
    "            time_data['minutes'] = custom_time_minutes.text\n",
    "    except:\n",
    "        time_data['minutes'] = \"\"\n",
    "\n",
    "    try:\n",
    "        custom_time_hours = soup.select_one(\"span.wprm-recipe-details.wprm-recipe-details-hours.wprm-recipe-custom_time.wprm-recipe-custom_time-hours\")\n",
    "        if custom_time_hours:\n",
    "            time_data['hours'] = custom_time_hours.text\n",
    "    except:\n",
    "        time_data['hours'] = \"\"\n",
    "\n",
    "    try:\n",
    "        custom_time_days = soup.select_one(\"span.wprm-recipe-details.wprm-recipe-details-days.wprm-recipe-custom_time.wprm-recipe-custom_time-days\")\n",
    "        if custom_time_days:\n",
    "            time_data['days'] = custom_time_days.text\n",
    "    except:\n",
    "        time_data['days'] = \"\"\n",
    "    content_series['additional_time'] = time_data\n",
    "except:\n",
    "    content_series['additional_time'] = \"\""
   ]
  },
  {
   "cell_type": "code",
   "execution_count": 45,
   "metadata": {},
   "outputs": [
    {
     "data": {
      "text/plain": [
       "{'hours': '1', 'minutes': 0, 'days': 0}"
      ]
     },
     "execution_count": 45,
     "metadata": {},
     "output_type": "execute_result"
    }
   ],
   "source": [
    "additional_time"
   ]
  },
  {
   "cell_type": "code",
   "execution_count": null,
   "metadata": {},
   "outputs": [],
   "source": [
    "    #      Additional time\n",
    "time_data = {'hours': 0, 'minutes': 0, 'days': 0}\n",
    "try:\n",
    "    try:\n",
    "        custom_time_minutes = self.find_element_by_xpath(\n",
    "            \"//span[@class='wprm-recipe-details wprm-recipe-details-minutes wprm-recipe-custom_time wprm-recipe-custom_time-minutes']\")\n",
    "        if custom_time_minutes:\n",
    "            time_data['minutes'] = custom_time_minutes.text\n",
    "    except:\n",
    "        time_data['minutes'] = \"\"\n",
    "    try:\n",
    "        custom_time_hours = self.find_element_by_xpath(\n",
    "            \"//span[@class='wprm-recipe-details wprm-recipe-details-hours wprm-recipe-custom_time wprm-recipe-custom_time-hours']\")\n",
    "        if custom_time_hours:\n",
    "            time_data['hours'] = custom_time_hours.text\n",
    "    except:\n",
    "        time_data['hours'] = \"\"\n",
    "    try:\n",
    "        custom_time_days = self.find_element_by_xpath(\n",
    "            \"//span[@class='wprm-recipe-details wprm-recipe-details-days wprm-recipe-custom_time wprm-recipe-custom_time-days']\")\n",
    "        if custom_time_days:\n",
    "            time_data['days'] = custom_time_days.text\n",
    "    except:\n",
    "        time_data['days'] = \"\"\n",
    "    content_series['additional_time'] = time_data\n",
    "except:\n",
    "    content_series['additional_time'] = \"\""
   ]
  },
  {
   "cell_type": "code",
   "execution_count": null,
   "metadata": {},
   "outputs": [],
   "source": [
    "#      Additional time\n",
    "time_data = {'hours': 0, 'minutes': 0, 'days': 0}\n",
    "try:\n",
    "\n",
    "    try:\n",
    "\n",
    "        custom_time_minutes = soup.select_one(\"span.\")\n",
    "        if custom_time_minutes:\n",
    "            time_data['minutes'] = custom_time_minutes.text\n",
    "    except:\n",
    "        time_data['minutes'] = \"\"\n",
    "\n",
    "    try:\n",
    "        custom_time_hours = soup.select_one(\"span.wprm-recipe-details.wprm-recipe-details-hours.wprm-recipe-custom_time.wprm-recipe-custom_time-hours\")\n",
    "        if custom_time_hours:\n",
    "            time_data['hours'] = custom_time_hours.text\n",
    "    except:\n",
    "        time_data['hours'] = \"\"\n",
    "\n",
    "    try:\n",
    "        custom_time_days = soup.select_one(\"span.wprm-recipe-details.wprm-recipe-details-hours.wprm-recipe-custom_time.wprm-recipe-custom_time-hours\")\n",
    "        if custom_time_days:\n",
    "            time_data['days'] = custom_time_days.text\n",
    "    except:\n",
    "        time_data['days'] = \"\"\n",
    "\n",
    "    additional_time = time_data\n",
    "\n",
    "except:\n",
    "    additional_time = \"\""
   ]
  },
  {
   "cell_type": "code",
   "execution_count": 14,
   "metadata": {},
   "outputs": [
    {
     "data": {
      "text/plain": [
       "[{'image': 'https://chocolatewithgrace.com/wp-content/uploads/2022/02/CWG-BBQ-Chicken-French-Bread-Pizza-10-1-of-1-scaled.jpg',\n",
       "  'title': '',\n",
       "  'caption': ''}]"
      ]
     },
     "execution_count": 14,
     "metadata": {},
     "output_type": "execute_result"
    }
   ],
   "source": [
    "image = soup.select_one('meta[property=\"og:image\"]')['content']\n",
    "images_dict = {'image':image, 'title': '', 'caption': ''}\n",
    "img_url = [images_dict]\n",
    "img_url"
   ]
  },
  {
   "cell_type": "code",
   "execution_count": 15,
   "metadata": {},
   "outputs": [
    {
     "data": {
      "text/plain": [
       "\"BBQ Chicken French Bread Pizza is a pizza lover's dream come true! With just a few ingredients and about 20 minutes, you can have dinner on the table.\""
      ]
     },
     "execution_count": 15,
     "metadata": {},
     "output_type": "execute_result"
    }
   ],
   "source": [
    "description = soup.select_one('meta[property=\"og:description\"]')['content']\n",
    "description"
   ]
  },
  {
   "cell_type": "code",
   "execution_count": 19,
   "metadata": {},
   "outputs": [],
   "source": [
    "ingredients_lst = []\n",
    "ingredient_container = soup.select_one('div.wprm-recipe-ingredients-container')\n",
    "if ingredient_container:\n",
    "    group_sections = ingredient_container.select('div.wprm-recipe-ingredient-group')\n",
    "    for section in group_sections:\n",
    "        ingredients = []\n",
    "        section_text = ''\n",
    "        section_tag = section.find('h4')\n",
    "        if section_tag:\n",
    "            section_text = section_tag.text\n",
    "        lists = section.select('ul>li.wprm-recipe-ingredient')\n",
    "        for li in lists:\n",
    "            ingredent_data = {'section': '', 'ingredients': []}\n",
    "            ingredient = li.find_all('span')\n",
    "            str1 = \"\"\n",
    "            for ele in ingredient:\n",
    "                if '▢' in ele.text:\n",
    "                    str1 = str1 + ' ' + ele.text.strip('▢')\n",
    "                else:\n",
    "                    str1 = str1 + ' ' + ele.text\n",
    "            ingredients.append(str1.strip())\n",
    "        ingredients_lst.append(\n",
    "            {'section': section_text, 'ingredients': ingredients})"
   ]
  },
  {
   "cell_type": "code",
   "execution_count": 20,
   "metadata": {},
   "outputs": [
    {
     "data": {
      "text/plain": [
       "[{'section': '',\n",
       "  'ingredients': ['1 loaf French or Italian bread',\n",
       "   '2 tablespoons olive oil',\n",
       "   '1/4 teaspoon kosher salt',\n",
       "   '16 ounces mozzarella cheese',\n",
       "   '1 1/2 cups barbecue sauce homemade or store-bought',\n",
       "   '2 cups cooked chicken, shredded or chopped small',\n",
       "   '2 tablespoons sliced green onions']}]"
      ]
     },
     "execution_count": 20,
     "metadata": {},
     "output_type": "execute_result"
    }
   ],
   "source": [
    "ingredients_lst"
   ]
  },
  {
   "cell_type": "code",
   "execution_count": 21,
   "metadata": {},
   "outputs": [
    {
     "data": {
      "text/plain": [
       "[{'section': '',\n",
       "  'instructions': [{'text': 'Preheat the oven to 400°F. Slice the bread in half lengthwise and then cut each half into 3 pieces, as pictured. If the bread is thicker than about 1-inch, press down on each piece until it’s closer to that thickness.',\n",
       "    'title': '',\n",
       "    'image': '',\n",
       "    'caption': ''},\n",
       "   {'text': 'Place the pieces on a large baking sheet. Combine the olive oil and salt in a small bowl. Brush the sliced portion of each piece with the olive oil mixture.',\n",
       "    'title': '',\n",
       "    'image': '',\n",
       "    'caption': ''},\n",
       "   {'text': 'Top the bread with half of the cheese and place in the oven. Cook for 8-10 minutes until the cheese melts.',\n",
       "    'title': '',\n",
       "    'image': '',\n",
       "    'caption': ''},\n",
       "   {'text': 'While the cheese is melting, warm the sauce and the chicken in the microwave or on the stovetop. Remove the bread from the oven and spread the sauce evenly over the bread. Top with the chicken.',\n",
       "    'title': '',\n",
       "    'image': '',\n",
       "    'caption': ''},\n",
       "   {'text': 'Cover the chicken with the remaining cheese and return to the oven until the cheese has melted and the sauce is bubbling, about 5-6 minutes. Remove from the oven and sprinkle with onions before serving.',\n",
       "    'title': '',\n",
       "    'image': '',\n",
       "    'caption': ''}]}]"
      ]
     },
     "execution_count": 21,
     "metadata": {},
     "output_type": "execute_result"
    }
   ],
   "source": [
    "instructions_list = []\n",
    "title = ''\n",
    "instructions = soup.select('div.wprm-recipe-instruction-group>ul>li')\n",
    "instruction_lst = []\n",
    "for inst in instructions:\n",
    "    isnt_data = {'text': '', 'title': '', 'image': '', 'caption': ''}\n",
    "    isnt_data['text'] = inst.text\n",
    "    instruction_lst.append(isnt_data)\n",
    "instructions_list.append({'section': title, 'instructions': instruction_lst})\n",
    "recipe_instructions = instructions_list\n",
    "recipe_instructions"
   ]
  },
  {
   "cell_type": "code",
   "execution_count": 22,
   "metadata": {},
   "outputs": [
    {
     "data": {
      "text/plain": [
       "'American'"
      ]
     },
     "execution_count": 22,
     "metadata": {},
     "output_type": "execute_result"
    }
   ],
   "source": [
    "cuisine = soup.select_one(\"span.wprm-recipe-cuisine\").text\n",
    "cuisine"
   ]
  },
  {
   "cell_type": "code",
   "execution_count": 23,
   "metadata": {},
   "outputs": [
    {
     "data": {
      "text/plain": [
       "'Main Dishes'"
      ]
     },
     "execution_count": 23,
     "metadata": {},
     "output_type": "execute_result"
    }
   ],
   "source": [
    "meal_course = soup.select_one(\"span.wprm-recipe-course\")\n",
    "meal_course.text"
   ]
  },
  {
   "cell_type": "code",
   "execution_count": 24,
   "metadata": {},
   "outputs": [
    {
     "data": {
      "text/plain": [
       "\"BBQ Chicken French Bread Pizza! This method creates cheesy pizzas with a crispy crust. It's homemade pizza that's fast enough for a quick lunch or casual dinner.\""
      ]
     },
     "execution_count": 24,
     "metadata": {},
     "output_type": "execute_result"
    }
   ],
   "source": [
    "des = soup.select_one('div.wprm-recipe-summary.wprm-block-text-normal')\n",
    "des.text"
   ]
  },
  {
   "cell_type": "code",
   "execution_count": 31,
   "metadata": {},
   "outputs": [
    {
     "data": {
      "text/plain": [
       "<div class=\"wprm-recipe-container\" data-recipe-id=\"3720\" data-servings=\"18\" id=\"wprm-recipe-container-3720\"><div class=\"wprm-recipe wprm-recipe-template-barefeet2\"><div class=\"wprm-recipe-template-barefeet2-inner\">\n",
       "<div class=\"wprm-template-bf-header\">\n",
       "<div class=\"wprm-template-bf-header__image\">\n",
       "<div class=\"wprm-recipe-image wprm-block-image-normal\"><img alt=\"Easy, Buttery Homemade Dinner Rolls can be made ahead and are perfect for Easter, Thanksgiving or Christmas Dinner.\" class=\"attachment-be_thumbnail_m size-be_thumbnail_m\" data-lazy-sizes=\"(max-width: 346px) 100vw, 346px\" data-lazy-src=\"https://chocolatewithgrace.com/wp-content/uploads/2018/03/Buttery-Dinner-Rolls-5-346x346.jpg\" data-lazy-srcset=\"https://chocolatewithgrace.com/wp-content/uploads/2018/03/Buttery-Dinner-Rolls-5-346x346.jpg 346w, https://chocolatewithgrace.com/wp-content/uploads/2018/03/Buttery-Dinner-Rolls-5-500x500.jpg 500w, https://chocolatewithgrace.com/wp-content/uploads/2018/03/Buttery-Dinner-Rolls-5-150x150.jpg 150w, https://chocolatewithgrace.com/wp-content/uploads/2018/03/Buttery-Dinner-Rolls-5-442x442.jpg 442w, https://chocolatewithgrace.com/wp-content/uploads/2018/03/Buttery-Dinner-Rolls-5-200x200.jpg 200w, https://chocolatewithgrace.com/wp-content/uploads/2018/03/Buttery-Dinner-Rolls-5-320x320.jpg 320w, https://chocolatewithgrace.com/wp-content/uploads/2018/03/Buttery-Dinner-Rolls-5-480x480.jpg 480w, https://chocolatewithgrace.com/wp-content/uploads/2018/03/Buttery-Dinner-Rolls-5-720x720.jpg 720w\" data-pin-nopin=\"true\" height=\"346\" src=\"data:image/svg+xml,%3Csvg%20xmlns='http://www.w3.org/2000/svg'%20viewBox='0%200%20346%20346'%3E%3C/svg%3E\" style=\"border-width: 0px;border-style: solid;border-color: #666666;\" width=\"346\"/><noscript><img alt=\"Easy, Buttery Homemade Dinner Rolls can be made ahead and are perfect for Easter, Thanksgiving or Christmas Dinner.\" class=\"attachment-be_thumbnail_m size-be_thumbnail_m\" data-pin-nopin=\"true\" height=\"346\" sizes=\"(max-width: 346px) 100vw, 346px\" src=\"https://chocolatewithgrace.com/wp-content/uploads/2018/03/Buttery-Dinner-Rolls-5-346x346.jpg\" srcset=\"https://chocolatewithgrace.com/wp-content/uploads/2018/03/Buttery-Dinner-Rolls-5-346x346.jpg 346w, https://chocolatewithgrace.com/wp-content/uploads/2018/03/Buttery-Dinner-Rolls-5-500x500.jpg 500w, https://chocolatewithgrace.com/wp-content/uploads/2018/03/Buttery-Dinner-Rolls-5-150x150.jpg 150w, https://chocolatewithgrace.com/wp-content/uploads/2018/03/Buttery-Dinner-Rolls-5-442x442.jpg 442w, https://chocolatewithgrace.com/wp-content/uploads/2018/03/Buttery-Dinner-Rolls-5-200x200.jpg 200w, https://chocolatewithgrace.com/wp-content/uploads/2018/03/Buttery-Dinner-Rolls-5-320x320.jpg 320w, https://chocolatewithgrace.com/wp-content/uploads/2018/03/Buttery-Dinner-Rolls-5-480x480.jpg 480w, https://chocolatewithgrace.com/wp-content/uploads/2018/03/Buttery-Dinner-Rolls-5-720x720.jpg 720w\" style=\"border-width: 0px;border-style: solid;border-color: #666666;\" width=\"346\"/></noscript></div>\n",
       "</div>\n",
       "<div class=\"wprm-template-bf-header__details\">\n",
       "<h2 class=\"wprm-recipe-name wprm-block-text-bold\">Buttery Dinner Rolls</h2>\n",
       "<div class=\"wprm-recipe-summary wprm-block-text-normal\">These simple, buttery dinner rolls are made with a simple dough that is rich in eggs and butter for a perfect side to your meal.</div>\n",
       "<div class=\"wprm-template-bf-buttons\">\n",
       "<a _blank=\"\" class=\"wprm-recipe-pin wprm-recipe-link wprm-block-text-normal target=\" data-description=\"Buttery Dinner Rolls\" data-media=\"https://chocolatewithgrace.com/wp-content/uploads/2018/03/Buttery-Dinner-Rolls-5.jpg\" data-recipe=\"3720\" data-repin=\"\" data-url=\"https://chocolatewithgrace.com/buttery-dinner-rolls/\" href=\"https://www.pinterest.com/pin/create/bookmarklet/?url=https%3A%2F%2Fchocolatewithgrace.com%2Fbuttery-dinner-rolls%2F&amp;media=https%3A%2F%2Fchocolatewithgrace.com%2Fwp-content%2Fuploads%2F2018%2F03%2FButtery-Dinner-Rolls-5.jpg&amp;description=Buttery+Dinner+Rolls&amp;is_video=false\" rel=\"nofollow noopener\" style=\"color: #333333;\">Pin</a>\n",
       "<a class=\"wprm-recipe-print wprm-recipe-link wprm-print-recipe-shortcode wprm-block-text-normal\" data-recipe-id=\"3720\" data-template=\"\" href=\"https://chocolatewithgrace.com/wprm_print/recipe/3720\" rel=\"nofollow\" style=\"color: #333333;\" target=\"_blank\">Print</a>\n",
       "<a class=\"button-review\" href=\"#respond\">Review</a>\n",
       "</div>\n",
       "</div>\n",
       "<div class=\"wprm-template-bf-meta wprm-template-bf-times-outer\"><svg aria-hidden=\"true\" focusable=\"false\" height=\"24\" role=\"img\" width=\"24\"><use xlink:href=\"#utility-clock1\"></use></svg><div class=\"wprm-recipe-meta-container wprm-recipe-times-container wprm-recipe-details-container wprm-recipe-details-container-inline wprm-block-text-normal\" style=\"\"><div class=\"wprm-recipe-block-container wprm-recipe-block-container-inline wprm-block-text-normal wprm-recipe-time-container wprm-recipe-prep-time-container\" style=\"\"><span class=\"wprm-recipe-details-label wprm-block-text-bold wprm-recipe-time-label wprm-recipe-prep-time-label\">Prep Time: </span><span class=\"wprm-recipe-time wprm-block-text-normal\"><span class=\"wprm-recipe-details wprm-recipe-details-minutes wprm-recipe-prep_time wprm-recipe-prep_time-minutes\">30</span> <span class=\"wprm-recipe-details-unit wprm-recipe-details-minutes wprm-recipe-prep_time-unit wprm-recipe-prep_timeunit-minutes\">mins</span></span></div><div class=\"wprm-recipe-block-container wprm-recipe-block-container-inline wprm-block-text-normal wprm-recipe-time-container wprm-recipe-cook-time-container\" style=\"\"><span class=\"wprm-recipe-details-label wprm-block-text-bold wprm-recipe-time-label wprm-recipe-cook-time-label\">Cook Time: </span><span class=\"wprm-recipe-time wprm-block-text-normal\"><span class=\"wprm-recipe-details wprm-recipe-details-minutes wprm-recipe-cook_time wprm-recipe-cook_time-minutes\">15</span> <span class=\"wprm-recipe-details-unit wprm-recipe-details-minutes wprm-recipe-cook_time-unit wprm-recipe-cook_timeunit-minutes\">mins</span></span></div><div class=\"wprm-recipe-block-container wprm-recipe-block-container-inline wprm-block-text-normal wprm-recipe-time-container wprm-recipe-custom-time-container\" style=\"\"><span class=\"wprm-recipe-details-label wprm-block-text-bold wprm-recipe-time-label wprm-recipe-custom-time-label\">Additional Time: </span><span class=\"wprm-recipe-time wprm-block-text-normal\"><span class=\"wprm-recipe-details wprm-recipe-details-hours wprm-recipe-custom_time wprm-recipe-custom_time-hours\">1</span> <span class=\"wprm-recipe-details-unit wprm-recipe-details-unit-hours wprm-recipe-custom_time-unit wprm-recipe-custom_timeunit-hours\">hr</span></span></div><div class=\"wprm-recipe-block-container wprm-recipe-block-container-inline wprm-block-text-normal wprm-recipe-time-container wprm-recipe-total-time-container\" style=\"\"><span class=\"wprm-recipe-details-label wprm-block-text-bold wprm-recipe-time-label wprm-recipe-total-time-label\">Total Time: </span><span class=\"wprm-recipe-time wprm-block-text-normal\"><span class=\"wprm-recipe-details wprm-recipe-details-hours wprm-recipe-total_time wprm-recipe-total_time-hours\">1</span> <span class=\"wprm-recipe-details-unit wprm-recipe-details-unit-hours wprm-recipe-total_time-unit wprm-recipe-total_timeunit-hours\">hr</span> <span class=\"wprm-recipe-details wprm-recipe-details-minutes wprm-recipe-total_time wprm-recipe-total_time-minutes\">45</span> <span class=\"wprm-recipe-details-unit wprm-recipe-details-minutes wprm-recipe-total_time-unit wprm-recipe-total_timeunit-minutes\">mins</span></span></div></div></div> <div class=\"wprm-template-bf-meta wprm-template-bf-times-outer\"><svg aria-hidden=\"true\" focusable=\"false\" height=\"24\" role=\"img\" width=\"24\"><use xlink:href=\"#utility-flatware\"></use></svg><div class=\"wprm-recipe-meta-container wprm-recipe-custom-container wprm-recipe-details-container wprm-recipe-details-container-separate wprm-block-text-normal\" style=\"\"><div class=\"wprm-recipe-block-container wprm-recipe-block-container-separate wprm-block-text-normal wprm-recipe-tag-container wprm-recipe-cuisine-container\" style=\"\"><span class=\"wprm-recipe-details-label wprm-block-text-bold wprm-recipe-tag-label wprm-recipe-cuisine-label\">Cuisine: </span><span class=\"wprm-recipe-cuisine wprm-block-text-normal\">American</span></div></div></div>\n",
       "</div>\n",
       "<div class=\"wprm-recipe-block-container wprm-recipe-block-container-separate wprm-block-text-normal wprm-recipe-servings-container\" style=\"\"><span class=\"wprm-recipe-details-label wprm-block-text-bold wprm-recipe-servings-label\">Servings: </span><span class=\"wprm-recipe-servings-with-unit\"><span aria-label=\"Adjust recipe servings\" class=\"wprm-recipe-servings wprm-recipe-details wprm-recipe-servings-3720 wprm-recipe-servings-adjustable-text wprm-block-text-normal\" data-initial-servings=\"\" data-recipe=\"3720\">18</span> <span class=\"wprm-recipe-servings-unit wprm-recipe-details-unit wprm-block-text-normal\">rolls</span></span></div>\n",
       "<div class=\"wprm-recipe-ingredients-container wprm-recipe-3720-ingredients-container wprm-block-text-normal wprm-ingredient-style-regular\" data-recipe=\"3720\" data-servings=\"18\"><h3 class=\"wprm-recipe-header wprm-recipe-ingredients-header wprm-block-text-bold wprm-align-left wprm-header-decoration-none wprm-header-has-actions\" style=\"\">Ingredients </h3><div class=\"wprm-recipe-ingredient-group\"><ul class=\"wprm-recipe-ingredients\"><li class=\"wprm-recipe-ingredient\" style=\"list-style-type: none;\"><span class=\"wprm-checkbox-container\"><input aria-label=\"[1 recipe basic sweet yeast dough]\" class=\"wprm-checkbox\" id=\"wprm-checkbox-0\" type=\"checkbox\"/><label class=\"wprm-checkbox-label\" for=\"wprm-checkbox-0\"><span class=\"sr-only screen-reader-text wprm-screen-reader-text\">▢ </span></label></span><span class=\"wprm-recipe-ingredient-name\"><a class=\"wprm-recipe-ingredient-link\" href=\"https://chocolatewithgrace.com/basic-sweet-yeast-dough-recipe/\" rel=\"nofollow\">[1 recipe basic sweet yeast dough]</a></span></li><li class=\"wprm-recipe-ingredient\" style=\"list-style-type: none;\"><span class=\"wprm-checkbox-container\"><input aria-label=\"1 egg beaten\" class=\"wprm-checkbox\" id=\"wprm-checkbox-1\" type=\"checkbox\"/><label class=\"wprm-checkbox-label\" for=\"wprm-checkbox-1\"><span class=\"sr-only screen-reader-text wprm-screen-reader-text\">▢ </span></label></span><span class=\"wprm-recipe-ingredient-amount\">1</span> <span class=\"wprm-recipe-ingredient-name\">egg</span> <span class=\"wprm-recipe-ingredient-notes wprm-recipe-ingredient-notes-normal\">beaten</span></li></ul></div></div>\n",
       "<div class=\"wprm-recipe-instructions-container wprm-recipe-3720-instructions-container wprm-block-text-normal\" data-recipe=\"3720\"><h3 class=\"wprm-recipe-header wprm-recipe-instructions-header wprm-block-text-bold wprm-align-left wprm-header-decoration-none\" style=\"\">Instructions</h3><div class=\"wprm-recipe-instruction-group\"><ul class=\"wprm-recipe-instructions\"><li class=\"wprm-recipe-instruction\" id=\"wprm-recipe-3720-step-0-0\" style=\"list-style-type: decimal;\"><div class=\"wprm-recipe-instruction-text\">Make the yeast dough according to <a href=\"https://chocolatewithgrace.com/basic-sweet-yeast-dough-recipe/\" target=\"_blank\">the recipe in this post</a> up through the first rise.</div></li><li class=\"wprm-recipe-instruction\" id=\"wprm-recipe-3720-step-0-1\" style=\"list-style-type: decimal;\"><div class=\"wprm-recipe-instruction-text\">Punch down the dough after it has risen and knead a few times until smooth. Divide the dough in half and set one half to the side. Divide the section of dough you are working with into thirds and each of those thirds, cut into thirds again. You should have nine little chunks of dough. Form each little chunk into a smooth round ball and place in a greased baking dish about 1 inch apart. This will make large rolls, if you prefer smaller ones, divide the dough into 12 sections, instead of 9.</div></li><li class=\"wprm-recipe-instruction\" id=\"wprm-recipe-3720-step-0-2\" style=\"list-style-type: decimal;\"><div class=\"wprm-recipe-instruction-text\">I usually only make half the dough at a time and freeze the other half. 9 rolls will fit into an 8 x 8 baking dish.</div></li><li class=\"wprm-recipe-instruction\" id=\"wprm-recipe-3720-step-0-3\" style=\"list-style-type: decimal;\"><div class=\"wprm-recipe-instruction-text\">Cover and let rise until double. Preheat oven to 350 F. Gently brush the rolls with the beaten egg after they have risen and bake for 15-18 minutes or until done.</div></li><li class=\"wprm-recipe-instruction\" id=\"wprm-recipe-3720-step-0-4\" style=\"list-style-type: decimal;\"><div class=\"wprm-recipe-instruction-text\">Cool slightly and remove from pan to cool completely. They store tightly covered for about 2 days.</div></li></ul></div></div>\n",
       "<h3 class=\"wprm-recipe-header wprm-recipe-nutrition-header wprm-block-text-bold wprm-align-left wprm-header-decoration-none\" style=\"\">Nutrition</h3><div class=\"wprm-nutrition-label-container wprm-nutrition-label-container-simple wprm-block-text-normal\" style=\"text-align: left;\"><span class=\"wprm-nutrition-label-text-nutrition-container wprm-nutrition-label-text-nutrition-container-serving_size\"><span class=\"wprm-nutrition-label-text-nutrition-label wprm-block-text-normal\" style=\"color: #111111\">Serving: </span><span class=\"wprm-nutrition-label-text-nutrition-value\" style=\"color: #111111\">1</span><span class=\"wprm-nutrition-label-text-nutrition-unit\" style=\"color: #111111\">roll</span></span><span style=\"color: #111111\"> · </span><span class=\"wprm-nutrition-label-text-nutrition-container wprm-nutrition-label-text-nutrition-container-calories\"><span class=\"wprm-nutrition-label-text-nutrition-label wprm-block-text-normal\" style=\"color: #111111\">Calories: </span><span class=\"wprm-nutrition-label-text-nutrition-value\" style=\"color: #111111\">176</span><span class=\"wprm-nutrition-label-text-nutrition-unit\" style=\"color: #111111\">kcal</span></span></div>\n",
       "</div>\n",
       "<div class=\"wprm-call-to-action wprm-call-to-action-simple\" style=\"color: #333333;margin: 0px;padding-top: 0px;padding-bottom: 0px;\"><span class=\"wprm-recipe-icon wprm-call-to-action-icon\"><svg height=\"16\" viewbox=\"0 0 24 24\" width=\"16\" xmlns=\"http://www.w3.org/2000/svg\"><g class=\"nc-icon-wrapper\" fill=\"#333333\"><path d=\"M12,2.162c3.204,0,3.584,0.012,4.849,0.07c1.366,0.062,2.633,0.336,3.608,1.311 c0.975,0.975,1.249,2.242,1.311,3.608c0.058,1.265,0.07,1.645,0.07,4.849s-0.012,3.584-0.07,4.849 c-0.062,1.366-0.336,2.633-1.311,3.608c-0.975,0.975-2.242,1.249-3.608,1.311c-1.265,0.058-1.645,0.07-4.849,0.07 s-3.584-0.012-4.849-0.07c-1.366-0.062-2.633-0.336-3.608-1.311c-0.975-0.975-1.249-2.242-1.311-3.608 c-0.058-1.265-0.07-1.645-0.07-4.849s0.012-3.584,0.07-4.849c0.062-1.366,0.336-2.633,1.311-3.608 c0.975-0.975,2.242-1.249,3.608-1.311C8.416,2.174,8.796,2.162,12,2.162 M12,0C8.741,0,8.332,0.014,7.052,0.072 c-1.95,0.089-3.663,0.567-5.038,1.942C0.639,3.389,0.161,5.102,0.072,7.052C0.014,8.332,0,8.741,0,12 c0,3.259,0.014,3.668,0.072,4.948c0.089,1.95,0.567,3.663,1.942,5.038c1.375,1.375,3.088,1.853,5.038,1.942 C8.332,23.986,8.741,24,12,24s3.668-0.014,4.948-0.072c1.95-0.089,3.663-0.567,5.038-1.942c1.375-1.375,1.853-3.088,1.942-5.038 C23.986,15.668,24,15.259,24,12s-0.014-3.668-0.072-4.948c-0.089-1.95-0.567-3.663-1.942-5.038 c-1.375-1.375-3.088-1.853-5.038-1.942C15.668,0.014,15.259,0,12,0L12,0z\" fill=\"#333333\"></path> <path d=\"M12,5.838c-3.403,0-6.162,2.759-6.162,6.162S8.597,18.162,12,18.162s6.162-2.759,6.162-6.162 S15.403,5.838,12,5.838z M12,16c-2.209,0-4-1.791-4-4s1.791-4,4-4s4,1.791,4,4S14.209,16,12,16z\" data-color=\"color-2\"></path> <circle cx=\"18.406\" cy=\"5.594\" data-color=\"color-2\" r=\"1.44\"></circle></g></svg></span> <span class=\"wprm-call-to-action-text-container\"><span class=\"wprm-call-to-action-header\" style=\"color: #333333;\">Tried this recipe?</span><span class=\"wprm-call-to-action-text\">Mention <a href=\"https://www.instagram.com/chocolatewithgrace\" rel=\"noreferrer noopener\" style=\"color: #0f0f0f\" target=\"_blank\">@chocolatewithgrace</a> or tag <a href=\"https://www.instagram.com/explore/tags/chocolatewithgrace\" rel=\"noreferrer noopener\" style=\"color: #0f0f0f\" target=\"_blank\">#chocolatewithgrace</a>!</span></span></div></div></div>"
      ]
     },
     "execution_count": 31,
     "metadata": {},
     "output_type": "execute_result"
    }
   ],
   "source": [
    "info_container = soup.select_one('div.wprm-recipe-container')\n",
    "info_container"
   ]
  },
  {
   "cell_type": "code",
   "execution_count": null,
   "metadata": {},
   "outputs": [],
   "source": []
  }
 ],
 "metadata": {
  "kernelspec": {
   "display_name": "Python 3",
   "language": "python",
   "name": "python3"
  },
  "language_info": {
   "codemirror_mode": {
    "name": "ipython",
    "version": 3
   },
   "file_extension": ".py",
   "mimetype": "text/x-python",
   "name": "python",
   "nbconvert_exporter": "python",
   "pygments_lexer": "ipython3",
   "version": "3.8.5"
  }
 },
 "nbformat": 4,
 "nbformat_minor": 4
}
