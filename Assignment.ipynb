{
 "cells": [
  {
   "cell_type": "markdown",
   "metadata": {},
   "source": [
    "# Importing the libraries"
   ]
  },
  {
   "cell_type": "code",
   "execution_count": 2,
   "metadata": {},
   "outputs": [
    {
     "name": "stderr",
     "output_type": "stream",
     "text": [
      "C:\\Users\\Dell\\anaconda3\\lib\\site-packages\\pandas\\core\\computation\\expressions.py:20: UserWarning: Pandas requires version '2.7.3' or newer of 'numexpr' (version '2.7.1' currently installed).\n",
      "  from pandas.core.computation.check import NUMEXPR_INSTALLED\n"
     ]
    }
   ],
   "source": [
    "import numpy as np\n",
    "import pandas as pd\n",
    "import matplotlib.pyplot as plt\n",
    "import seaborn as sns\n",
    "from sklearn.cluster import KMeans\n",
    "from sklearn.preprocessing import LabelEncoder"
   ]
  },
  {
   "cell_type": "markdown",
   "metadata": {},
   "source": [
    "# Reading the dataset"
   ]
  },
  {
   "cell_type": "code",
   "execution_count": 3,
   "metadata": {},
   "outputs": [
    {
     "data": {
      "text/html": [
       "<div>\n",
       "<style scoped>\n",
       "    .dataframe tbody tr th:only-of-type {\n",
       "        vertical-align: middle;\n",
       "    }\n",
       "\n",
       "    .dataframe tbody tr th {\n",
       "        vertical-align: top;\n",
       "    }\n",
       "\n",
       "    .dataframe thead th {\n",
       "        text-align: right;\n",
       "    }\n",
       "</style>\n",
       "<table border=\"1\" class=\"dataframe\">\n",
       "  <thead>\n",
       "    <tr style=\"text-align: right;\">\n",
       "      <th></th>\n",
       "      <th>#</th>\n",
       "      <th>Patient Id</th>\n",
       "      <th>Indications</th>\n",
       "      <th>Onboarding Date</th>\n",
       "      <th>Age</th>\n",
       "      <th>Gender</th>\n",
       "      <th>Height</th>\n",
       "      <th>Weight</th>\n",
       "      <th>Language Spoken</th>\n",
       "      <th>Onboarding Time</th>\n",
       "      <th>Doctor Id</th>\n",
       "      <th>Doctor Gender</th>\n",
       "      <th>Doctor City</th>\n",
       "      <th>Doctor State</th>\n",
       "    </tr>\n",
       "  </thead>\n",
       "  <tbody>\n",
       "    <tr>\n",
       "      <th>0</th>\n",
       "      <td>1</td>\n",
       "      <td>001a1e8d-47c7-11ee-bf18-7b40cd44ecd5</td>\n",
       "      <td>Fatty Liver - NASH</td>\n",
       "      <td>31-08-2023</td>\n",
       "      <td>50</td>\n",
       "      <td>F</td>\n",
       "      <td>165.0</td>\n",
       "      <td>77.0</td>\n",
       "      <td>English</td>\n",
       "      <td>11:54:23</td>\n",
       "      <td>609dd764-f93a-11ed-9614-86c4450e7523</td>\n",
       "      <td>M</td>\n",
       "      <td>GHAZIABAD</td>\n",
       "      <td>UTTAR PRADESH</td>\n",
       "    </tr>\n",
       "    <tr>\n",
       "      <th>1</th>\n",
       "      <td>2</td>\n",
       "      <td>002b561d-5c7b-11ee-bf18-7b40cd44ecd5</td>\n",
       "      <td>Diabetes</td>\n",
       "      <td>26-09-2023</td>\n",
       "      <td>45</td>\n",
       "      <td>M</td>\n",
       "      <td>172.0</td>\n",
       "      <td>75.0</td>\n",
       "      <td>English</td>\n",
       "      <td>20:13:46</td>\n",
       "      <td>69193aaa-eeea-11ed-9614-86c4450e7523</td>\n",
       "      <td>M</td>\n",
       "      <td>DELHI I</td>\n",
       "      <td>Delhi</td>\n",
       "    </tr>\n",
       "    <tr>\n",
       "      <th>2</th>\n",
       "      <td>3</td>\n",
       "      <td>003111e5-5ba2-11ee-bf18-7b40cd44ecd5</td>\n",
       "      <td>Diabetes</td>\n",
       "      <td>25-09-2023</td>\n",
       "      <td>39</td>\n",
       "      <td>F</td>\n",
       "      <td>NaN</td>\n",
       "      <td>NaN</td>\n",
       "      <td>English</td>\n",
       "      <td>18:20:24</td>\n",
       "      <td>0bb89ed6-eeee-11ed-9614-86c4450e7523</td>\n",
       "      <td>M</td>\n",
       "      <td>LUDHIANA</td>\n",
       "      <td>Punjab</td>\n",
       "    </tr>\n",
       "    <tr>\n",
       "      <th>3</th>\n",
       "      <td>4</td>\n",
       "      <td>0050c2ea-41b5-11ee-bf18-7b40cd44ecd5</td>\n",
       "      <td>Diabetes</td>\n",
       "      <td>23-08-2023</td>\n",
       "      <td>67</td>\n",
       "      <td>M</td>\n",
       "      <td>NaN</td>\n",
       "      <td>NaN</td>\n",
       "      <td>English</td>\n",
       "      <td>18:30:16</td>\n",
       "      <td>7e421c0e-eef3-11ed-9614-86c4450e7523</td>\n",
       "      <td>M</td>\n",
       "      <td>SILIGURI</td>\n",
       "      <td>West Bengal</td>\n",
       "    </tr>\n",
       "    <tr>\n",
       "      <th>4</th>\n",
       "      <td>5</td>\n",
       "      <td>005e06c0-3753-11ee-a67f-f4ce2d75c16b</td>\n",
       "      <td>Fatty Liver - NAFL</td>\n",
       "      <td>10-08-2023</td>\n",
       "      <td>60</td>\n",
       "      <td>M</td>\n",
       "      <td>NaN</td>\n",
       "      <td>NaN</td>\n",
       "      <td>English</td>\n",
       "      <td>13:24:59</td>\n",
       "      <td>b12294f7-f939-11ed-9614-86c4450e7523</td>\n",
       "      <td>M</td>\n",
       "      <td>WADALA</td>\n",
       "      <td>MAHARASHTRA</td>\n",
       "    </tr>\n",
       "  </tbody>\n",
       "</table>\n",
       "</div>"
      ],
      "text/plain": [
       "   #                            Patient Id         Indications  \\\n",
       "0  1  001a1e8d-47c7-11ee-bf18-7b40cd44ecd5  Fatty Liver - NASH   \n",
       "1  2  002b561d-5c7b-11ee-bf18-7b40cd44ecd5            Diabetes   \n",
       "2  3  003111e5-5ba2-11ee-bf18-7b40cd44ecd5            Diabetes   \n",
       "3  4  0050c2ea-41b5-11ee-bf18-7b40cd44ecd5            Diabetes   \n",
       "4  5  005e06c0-3753-11ee-a67f-f4ce2d75c16b  Fatty Liver - NAFL   \n",
       "\n",
       "  Onboarding Date  Age Gender  Height  Weight Language Spoken Onboarding Time  \\\n",
       "0      31-08-2023   50      F   165.0    77.0         English        11:54:23   \n",
       "1      26-09-2023   45      M   172.0    75.0         English        20:13:46   \n",
       "2      25-09-2023   39      F     NaN     NaN         English        18:20:24   \n",
       "3      23-08-2023   67      M     NaN     NaN         English        18:30:16   \n",
       "4      10-08-2023   60      M     NaN     NaN         English        13:24:59   \n",
       "\n",
       "                              Doctor Id Doctor Gender Doctor City  \\\n",
       "0  609dd764-f93a-11ed-9614-86c4450e7523             M   GHAZIABAD   \n",
       "1  69193aaa-eeea-11ed-9614-86c4450e7523             M     DELHI I   \n",
       "2  0bb89ed6-eeee-11ed-9614-86c4450e7523             M    LUDHIANA   \n",
       "3  7e421c0e-eef3-11ed-9614-86c4450e7523             M    SILIGURI   \n",
       "4  b12294f7-f939-11ed-9614-86c4450e7523             M      WADALA   \n",
       "\n",
       "    Doctor State  \n",
       "0  UTTAR PRADESH  \n",
       "1          Delhi  \n",
       "2         Punjab  \n",
       "3    West Bengal  \n",
       "4    MAHARASHTRA  "
      ]
     },
     "execution_count": 3,
     "metadata": {},
     "output_type": "execute_result"
    }
   ],
   "source": [
    "data = pd.read_csv(\"C:\\\\Users\\Dell\\\\OneDrive\\\\Desktop\\\\Book2.csv\")\n",
    "data.head()"
   ]
  },
  {
   "cell_type": "markdown",
   "metadata": {},
   "source": [
    "# #  Data cleaning Process"
   ]
  },
  {
   "cell_type": "markdown",
   "metadata": {},
   "source": [
    "# Identifying missing values"
   ]
  },
  {
   "cell_type": "code",
   "execution_count": 4,
   "metadata": {},
   "outputs": [
    {
     "data": {
      "text/plain": [
       "#                     0\n",
       "Patient Id            0\n",
       "Indications           0\n",
       "Onboarding Date       0\n",
       "Age                   0\n",
       "Gender                0\n",
       "Height             2900\n",
       "Weight             2900\n",
       "Language Spoken       0\n",
       "Onboarding Time       0\n",
       "Doctor Id             0\n",
       "Doctor Gender         4\n",
       "Doctor City           4\n",
       "Doctor State          4\n",
       "dtype: int64"
      ]
     },
     "execution_count": 4,
     "metadata": {},
     "output_type": "execute_result"
    }
   ],
   "source": [
    "data.isnull().sum()"
   ]
  },
  {
   "cell_type": "markdown",
   "metadata": {},
   "source": [
    "We have missing values in data in height,weight,doctor city,doctor state columes. We can handle it by replacing it with mean."
   ]
  },
  {
   "cell_type": "markdown",
   "metadata": {},
   "source": [
    "# Filling all missing values using Mean"
   ]
  },
  {
   "cell_type": "code",
   "execution_count": 5,
   "metadata": {},
   "outputs": [],
   "source": [
    "a = data['Height'].mean()\n",
    "data['Height'].fillna(a, inplace = True)\n",
    "\n",
    "b = data['Weight'].mean()\n",
    "data['Weight'].fillna(b, inplace = True)\n"
   ]
  },
  {
   "cell_type": "code",
   "execution_count": 6,
   "metadata": {},
   "outputs": [
    {
     "data": {
      "text/plain": [
       "#                  0\n",
       "Patient Id         0\n",
       "Indications        0\n",
       "Onboarding Date    0\n",
       "Age                0\n",
       "Gender             0\n",
       "Height             0\n",
       "Weight             0\n",
       "Language Spoken    0\n",
       "Onboarding Time    0\n",
       "Doctor Id          0\n",
       "Doctor Gender      4\n",
       "Doctor City        4\n",
       "Doctor State       4\n",
       "dtype: int64"
      ]
     },
     "execution_count": 6,
     "metadata": {},
     "output_type": "execute_result"
    }
   ],
   "source": [
    "data.isnull().sum()"
   ]
  },
  {
   "cell_type": "markdown",
   "metadata": {},
   "source": [
    "# we have removed all the missing values for height and weight"
   ]
  },
  {
   "cell_type": "markdown",
   "metadata": {},
   "source": [
    "# Removing the unwanted columns from data"
   ]
  },
  {
   "cell_type": "code",
   "execution_count": 7,
   "metadata": {},
   "outputs": [],
   "source": [
    "column_to_drop = '#'\n",
    "data = data.drop(column_to_drop, axis=1)"
   ]
  },
  {
   "cell_type": "code",
   "execution_count": 8,
   "metadata": {},
   "outputs": [
    {
     "data": {
      "text/html": [
       "<div>\n",
       "<style scoped>\n",
       "    .dataframe tbody tr th:only-of-type {\n",
       "        vertical-align: middle;\n",
       "    }\n",
       "\n",
       "    .dataframe tbody tr th {\n",
       "        vertical-align: top;\n",
       "    }\n",
       "\n",
       "    .dataframe thead th {\n",
       "        text-align: right;\n",
       "    }\n",
       "</style>\n",
       "<table border=\"1\" class=\"dataframe\">\n",
       "  <thead>\n",
       "    <tr style=\"text-align: right;\">\n",
       "      <th></th>\n",
       "      <th>Patient Id</th>\n",
       "      <th>Indications</th>\n",
       "      <th>Onboarding Date</th>\n",
       "      <th>Age</th>\n",
       "      <th>Gender</th>\n",
       "      <th>Height</th>\n",
       "      <th>Weight</th>\n",
       "      <th>Language Spoken</th>\n",
       "      <th>Onboarding Time</th>\n",
       "      <th>Doctor Id</th>\n",
       "      <th>Doctor Gender</th>\n",
       "      <th>Doctor City</th>\n",
       "      <th>Doctor State</th>\n",
       "    </tr>\n",
       "  </thead>\n",
       "  <tbody>\n",
       "    <tr>\n",
       "      <th>0</th>\n",
       "      <td>001a1e8d-47c7-11ee-bf18-7b40cd44ecd5</td>\n",
       "      <td>Fatty Liver - NASH</td>\n",
       "      <td>31-08-2023</td>\n",
       "      <td>50</td>\n",
       "      <td>F</td>\n",
       "      <td>165.000000</td>\n",
       "      <td>77.000000</td>\n",
       "      <td>English</td>\n",
       "      <td>11:54:23</td>\n",
       "      <td>609dd764-f93a-11ed-9614-86c4450e7523</td>\n",
       "      <td>M</td>\n",
       "      <td>GHAZIABAD</td>\n",
       "      <td>UTTAR PRADESH</td>\n",
       "    </tr>\n",
       "    <tr>\n",
       "      <th>1</th>\n",
       "      <td>002b561d-5c7b-11ee-bf18-7b40cd44ecd5</td>\n",
       "      <td>Diabetes</td>\n",
       "      <td>26-09-2023</td>\n",
       "      <td>45</td>\n",
       "      <td>M</td>\n",
       "      <td>172.000000</td>\n",
       "      <td>75.000000</td>\n",
       "      <td>English</td>\n",
       "      <td>20:13:46</td>\n",
       "      <td>69193aaa-eeea-11ed-9614-86c4450e7523</td>\n",
       "      <td>M</td>\n",
       "      <td>DELHI I</td>\n",
       "      <td>Delhi</td>\n",
       "    </tr>\n",
       "    <tr>\n",
       "      <th>2</th>\n",
       "      <td>003111e5-5ba2-11ee-bf18-7b40cd44ecd5</td>\n",
       "      <td>Diabetes</td>\n",
       "      <td>25-09-2023</td>\n",
       "      <td>39</td>\n",
       "      <td>F</td>\n",
       "      <td>164.773615</td>\n",
       "      <td>73.095419</td>\n",
       "      <td>English</td>\n",
       "      <td>18:20:24</td>\n",
       "      <td>0bb89ed6-eeee-11ed-9614-86c4450e7523</td>\n",
       "      <td>M</td>\n",
       "      <td>LUDHIANA</td>\n",
       "      <td>Punjab</td>\n",
       "    </tr>\n",
       "    <tr>\n",
       "      <th>3</th>\n",
       "      <td>0050c2ea-41b5-11ee-bf18-7b40cd44ecd5</td>\n",
       "      <td>Diabetes</td>\n",
       "      <td>23-08-2023</td>\n",
       "      <td>67</td>\n",
       "      <td>M</td>\n",
       "      <td>164.773615</td>\n",
       "      <td>73.095419</td>\n",
       "      <td>English</td>\n",
       "      <td>18:30:16</td>\n",
       "      <td>7e421c0e-eef3-11ed-9614-86c4450e7523</td>\n",
       "      <td>M</td>\n",
       "      <td>SILIGURI</td>\n",
       "      <td>West Bengal</td>\n",
       "    </tr>\n",
       "    <tr>\n",
       "      <th>4</th>\n",
       "      <td>005e06c0-3753-11ee-a67f-f4ce2d75c16b</td>\n",
       "      <td>Fatty Liver - NAFL</td>\n",
       "      <td>10-08-2023</td>\n",
       "      <td>60</td>\n",
       "      <td>M</td>\n",
       "      <td>164.773615</td>\n",
       "      <td>73.095419</td>\n",
       "      <td>English</td>\n",
       "      <td>13:24:59</td>\n",
       "      <td>b12294f7-f939-11ed-9614-86c4450e7523</td>\n",
       "      <td>M</td>\n",
       "      <td>WADALA</td>\n",
       "      <td>MAHARASHTRA</td>\n",
       "    </tr>\n",
       "  </tbody>\n",
       "</table>\n",
       "</div>"
      ],
      "text/plain": [
       "                             Patient Id         Indications Onboarding Date  \\\n",
       "0  001a1e8d-47c7-11ee-bf18-7b40cd44ecd5  Fatty Liver - NASH      31-08-2023   \n",
       "1  002b561d-5c7b-11ee-bf18-7b40cd44ecd5            Diabetes      26-09-2023   \n",
       "2  003111e5-5ba2-11ee-bf18-7b40cd44ecd5            Diabetes      25-09-2023   \n",
       "3  0050c2ea-41b5-11ee-bf18-7b40cd44ecd5            Diabetes      23-08-2023   \n",
       "4  005e06c0-3753-11ee-a67f-f4ce2d75c16b  Fatty Liver - NAFL      10-08-2023   \n",
       "\n",
       "   Age Gender      Height     Weight Language Spoken Onboarding Time  \\\n",
       "0   50      F  165.000000  77.000000         English        11:54:23   \n",
       "1   45      M  172.000000  75.000000         English        20:13:46   \n",
       "2   39      F  164.773615  73.095419         English        18:20:24   \n",
       "3   67      M  164.773615  73.095419         English        18:30:16   \n",
       "4   60      M  164.773615  73.095419         English        13:24:59   \n",
       "\n",
       "                              Doctor Id Doctor Gender Doctor City  \\\n",
       "0  609dd764-f93a-11ed-9614-86c4450e7523             M   GHAZIABAD   \n",
       "1  69193aaa-eeea-11ed-9614-86c4450e7523             M     DELHI I   \n",
       "2  0bb89ed6-eeee-11ed-9614-86c4450e7523             M    LUDHIANA   \n",
       "3  7e421c0e-eef3-11ed-9614-86c4450e7523             M    SILIGURI   \n",
       "4  b12294f7-f939-11ed-9614-86c4450e7523             M      WADALA   \n",
       "\n",
       "    Doctor State  \n",
       "0  UTTAR PRADESH  \n",
       "1          Delhi  \n",
       "2         Punjab  \n",
       "3    West Bengal  \n",
       "4    MAHARASHTRA  "
      ]
     },
     "execution_count": 8,
     "metadata": {},
     "output_type": "execute_result"
    }
   ],
   "source": [
    "data.head()"
   ]
  },
  {
   "cell_type": "markdown",
   "metadata": {},
   "source": [
    "# Calculating Statistical insight from data"
   ]
  },
  {
   "cell_type": "code",
   "execution_count": 9,
   "metadata": {},
   "outputs": [
    {
     "data": {
      "text/html": [
       "<div>\n",
       "<style scoped>\n",
       "    .dataframe tbody tr th:only-of-type {\n",
       "        vertical-align: middle;\n",
       "    }\n",
       "\n",
       "    .dataframe tbody tr th {\n",
       "        vertical-align: top;\n",
       "    }\n",
       "\n",
       "    .dataframe thead th {\n",
       "        text-align: right;\n",
       "    }\n",
       "</style>\n",
       "<table border=\"1\" class=\"dataframe\">\n",
       "  <thead>\n",
       "    <tr style=\"text-align: right;\">\n",
       "      <th></th>\n",
       "      <th>Age</th>\n",
       "      <th>Height</th>\n",
       "      <th>Weight</th>\n",
       "    </tr>\n",
       "  </thead>\n",
       "  <tbody>\n",
       "    <tr>\n",
       "      <th>count</th>\n",
       "      <td>5716.000000</td>\n",
       "      <td>5716.000000</td>\n",
       "      <td>5716.000000</td>\n",
       "    </tr>\n",
       "    <tr>\n",
       "      <th>mean</th>\n",
       "      <td>44.973058</td>\n",
       "      <td>164.773615</td>\n",
       "      <td>73.095419</td>\n",
       "    </tr>\n",
       "    <tr>\n",
       "      <th>std</th>\n",
       "      <td>13.699371</td>\n",
       "      <td>7.574338</td>\n",
       "      <td>9.819497</td>\n",
       "    </tr>\n",
       "    <tr>\n",
       "      <th>min</th>\n",
       "      <td>18.000000</td>\n",
       "      <td>111.000000</td>\n",
       "      <td>30.000000</td>\n",
       "    </tr>\n",
       "    <tr>\n",
       "      <th>25%</th>\n",
       "      <td>35.000000</td>\n",
       "      <td>164.773615</td>\n",
       "      <td>73.095419</td>\n",
       "    </tr>\n",
       "    <tr>\n",
       "      <th>50%</th>\n",
       "      <td>43.000000</td>\n",
       "      <td>164.773615</td>\n",
       "      <td>73.095419</td>\n",
       "    </tr>\n",
       "    <tr>\n",
       "      <th>75%</th>\n",
       "      <td>54.000000</td>\n",
       "      <td>165.000000</td>\n",
       "      <td>73.095419</td>\n",
       "    </tr>\n",
       "    <tr>\n",
       "      <th>max</th>\n",
       "      <td>92.000000</td>\n",
       "      <td>259.000000</td>\n",
       "      <td>275.000000</td>\n",
       "    </tr>\n",
       "  </tbody>\n",
       "</table>\n",
       "</div>"
      ],
      "text/plain": [
       "               Age       Height       Weight\n",
       "count  5716.000000  5716.000000  5716.000000\n",
       "mean     44.973058   164.773615    73.095419\n",
       "std      13.699371     7.574338     9.819497\n",
       "min      18.000000   111.000000    30.000000\n",
       "25%      35.000000   164.773615    73.095419\n",
       "50%      43.000000   164.773615    73.095419\n",
       "75%      54.000000   165.000000    73.095419\n",
       "max      92.000000   259.000000   275.000000"
      ]
     },
     "execution_count": 9,
     "metadata": {},
     "output_type": "execute_result"
    }
   ],
   "source": [
    "data.describe()"
   ]
  },
  {
   "cell_type": "markdown",
   "metadata": {},
   "source": [
    "# From Above Table we get max,min,and mean of each variable"
   ]
  },
  {
   "cell_type": "markdown",
   "metadata": {},
   "source": [
    "# Calculating Data types of each variable present in data"
   ]
  },
  {
   "cell_type": "code",
   "execution_count": 16,
   "metadata": {},
   "outputs": [
    {
     "name": "stdout",
     "output_type": "stream",
     "text": [
      "<class 'pandas.core.frame.DataFrame'>\n",
      "RangeIndex: 5716 entries, 0 to 5715\n",
      "Data columns (total 13 columns):\n",
      " #   Column           Non-Null Count  Dtype  \n",
      "---  ------           --------------  -----  \n",
      " 0   Patient Id       5716 non-null   object \n",
      " 1   Indications      5716 non-null   object \n",
      " 2   Onboarding Date  5716 non-null   object \n",
      " 3   Age              5716 non-null   int64  \n",
      " 4   Gender           5716 non-null   object \n",
      " 5   Height           5716 non-null   float64\n",
      " 6   Weight           5716 non-null   float64\n",
      " 7   Language Spoken  5716 non-null   object \n",
      " 8   Onboarding Time  5716 non-null   object \n",
      " 9   Doctor Id        5716 non-null   object \n",
      " 10  Doctor Gender    5712 non-null   object \n",
      " 11  Doctor City      5712 non-null   object \n",
      " 12  Doctor State     5712 non-null   object \n",
      "dtypes: float64(2), int64(1), object(10)\n",
      "memory usage: 580.7+ KB\n"
     ]
    }
   ],
   "source": [
    "data.info()"
   ]
  },
  {
   "cell_type": "markdown",
   "metadata": {},
   "source": [
    "# #EDA process"
   ]
  },
  {
   "cell_type": "markdown",
   "metadata": {},
   "source": [
    "# Histogram"
   ]
  },
  {
   "cell_type": "code",
   "execution_count": 17,
   "metadata": {},
   "outputs": [
    {
     "data": {
      "image/png": "[encoded data removed]",
      "text/plain": [
       "<Figure size 432x288 with 1 Axes>"
      ]
     },
     "metadata": {
      "needs_background": "light"
     },
     "output_type": "display_data"
    }
   ],
   "source": [
    "count, bin_edges = np.histogram(data['Age'])\n",
    "data['Age'].plot(kind='hist', xticks=bin_edges)\n",
    "plt.xlabel('Age')\n",
    "plt.ylabel('frequency')\n",
    "plt.grid()\n",
    "plt.show()"
   ]
  },
  {
   "cell_type": "markdown",
   "metadata": {},
   "source": [
    "# Interpretation:From above histogram we can say that most of the data is distributed between age group of 32 to 40"
   ]
  },
  {
   "cell_type": "code",
   "execution_count": 19,
   "metadata": {},
   "outputs": [
    {
     "data": {
      "image/png": "[encoded data removed]",
      "text/plain": [
       "<Figure size 432x288 with 1 Axes>"
      ]
     },
     "metadata": {
      "needs_background": "light"
     },
     "output_type": "display_data"
    }
   ],
   "source": [
    "count, bin_edges = np.histogram(data['Height'])\n",
    "data['Height'].plot(kind='hist', xticks=bin_edges)\n",
    "plt.xlabel('Height')\n",
    "plt.ylabel('frequency')\n",
    "plt.grid()\n",
    "plt.show()"
   ]
  },
  {
   "cell_type": "markdown",
   "metadata": {},
   "source": [
    "# Height of most of the patients lies within the range of 15.5 to 17  "
   ]
  },
  {
   "cell_type": "code",
   "execution_count": 22,
   "metadata": {},
   "outputs": [
    {
     "data": {
      "image/png": "[encoded data removed]",
      "text/plain": [
       "<Figure size 432x288 with 1 Axes>"
      ]
     },
     "metadata": {
      "needs_background": "light"
     },
     "output_type": "display_data"
    }
   ],
   "source": [
    "count, bin_edges = np.histogram(data['Weight'])\n",
    "data['Weight'].plot(kind='hist', xticks=bin_edges)\n",
    "plt.xlabel('Weight')\n",
    "plt.ylabel('frequency')\n",
    "plt.grid()\n",
    "plt.show()"
   ]
  },
  {
   "cell_type": "markdown",
   "metadata": {},
   "source": [
    "# Weight of most of the patients lies within the range of 54.5 to 79.0  "
   ]
  },
  {
   "cell_type": "markdown",
   "metadata": {},
   "source": [
    "# #Correlation Between two variables"
   ]
  },
  {
   "cell_type": "markdown",
   "metadata": {},
   "source": [
    "# Scater Plot"
   ]
  },
  {
   "cell_type": "code",
   "execution_count": 32,
   "metadata": {},
   "outputs": [
    {
     "data": {
      "image/png": "[encoded data removed]",
      "text/plain": [
       "<Figure size 432x288 with 1 Axes>"
      ]
     },
     "metadata": {},
     "output_type": "display_data"
    }
   ],
   "source": [
    "plt.scatter(data['Height'],data['Weight'])\n",
    "plt.xlabel('Height')\n",
    "plt.ylabel('Weight')\n",
    "plt.show()"
   ]
  },
  {
   "cell_type": "code",
   "execution_count": 33,
   "metadata": {},
   "outputs": [
    {
     "data": {
      "text/plain": [
       "0.2581018027712036"
      ]
     },
     "execution_count": 33,
     "metadata": {},
     "output_type": "execute_result"
    }
   ],
   "source": [
    "correlation = data['Height'].corr(data['Weight'])\n",
    "correlation "
   ]
  },
  {
   "cell_type": "markdown",
   "metadata": {},
   "source": [
    "# From scater plot and correlation we conclude that height and weight are positively correlated with each other.That is as height increases weight also increases"
   ]
  },
  {
   "cell_type": "code",
   "execution_count": 27,
   "metadata": {},
   "outputs": [
    {
     "data": {
      "image/png": "[encoded data removed]",
      "text/plain": [
       "<Figure size 432x288 with 1 Axes>"
      ]
     },
     "metadata": {},
     "output_type": "display_data"
    }
   ],
   "source": [
    "# Create a scatter plot\n",
    "sns.set(style=\"whitegrid\")\n",
    "sns.scatterplot(x='Age', y='Weight', data=data)\n",
    "plt.title(f'Correlation: {correlation:.2f}')\n",
    "plt.show()"
   ]
  },
  {
   "cell_type": "code",
   "execution_count": 34,
   "metadata": {},
   "outputs": [
    {
     "data": {
      "text/plain": [
       "-0.019977894855063072"
      ]
     },
     "execution_count": 34,
     "metadata": {},
     "output_type": "execute_result"
    }
   ],
   "source": [
    "correlation = data['Age'].corr(data['Weight'])\n",
    "correlation"
   ]
  },
  {
   "cell_type": "markdown",
   "metadata": {},
   "source": [
    "# # From scater plot and correlation we conclude that age and weight are negatively correlated with each other."
   ]
  },
  {
   "cell_type": "code",
   "execution_count": 35,
   "metadata": {},
   "outputs": [
    {
     "data": {
      "image/png": "[encoded data removed]",
      "text/plain": [
       "<Figure size 432x288 with 1 Axes>"
      ]
     },
     "metadata": {},
     "output_type": "display_data"
    }
   ],
   "source": [
    "plt.scatter(data['Height'],data['Age'])\n",
    "plt.xlabel('Height')\n",
    "plt.ylabel('Age')\n",
    "plt.show()"
   ]
  },
  {
   "cell_type": "code",
   "execution_count": 36,
   "metadata": {},
   "outputs": [
    {
     "data": {
      "text/plain": [
       "-0.051573366567830604"
      ]
     },
     "execution_count": 36,
     "metadata": {},
     "output_type": "execute_result"
    }
   ],
   "source": [
    "correlation = data['Age'].corr(data['Height'])\n",
    "correlation"
   ]
  },
  {
   "cell_type": "markdown",
   "metadata": {},
   "source": [
    "# Boxplot(outlier)"
   ]
  },
  {
   "cell_type": "code",
   "execution_count": 37,
   "metadata": {},
   "outputs": [
    {
     "name": "stderr",
     "output_type": "stream",
     "text": [
      "C:\\Users\\Dell\\anaconda3\\lib\\site-packages\\seaborn\\_decorators.py:36: FutureWarning: Pass the following variable as a keyword arg: x. From version 0.12, the only valid positional argument will be `data`, and passing other arguments without an explicit keyword will result in an error or misinterpretation.\n",
      "  warnings.warn(\n"
     ]
    },
    {
     "data": {
      "text/plain": [
       "<AxesSubplot:xlabel='Age'>"
      ]
     },
     "execution_count": 37,
     "metadata": {},
     "output_type": "execute_result"
    },
    {
     "data": {
      "image/png": "[encoded data removed]",
      "text/plain": [
       "<Figure size 432x288 with 1 Axes>"
      ]
     },
     "metadata": {},
     "output_type": "display_data"
    }
   ],
   "source": [
    "sns.boxplot('Age',data=data)"
   ]
  },
  {
   "cell_type": "markdown",
   "metadata": {},
   "source": [
    "# With the help of boxplot we identify the outlier from the data"
   ]
  },
  {
   "cell_type": "markdown",
   "metadata": {},
   "source": [
    "# Visualisation"
   ]
  },
  {
   "cell_type": "code",
   "execution_count": 42,
   "metadata": {},
   "outputs": [
    {
     "data": {
      "image/png": "[encoded data removed]",
      "text/plain": [
       "<Figure size 432x288 with 1 Axes>"
      ]
     },
     "metadata": {},
     "output_type": "display_data"
    }
   ],
   "source": [
    "sns.countplot(x='Indications', data=data)\n",
    "plt.title('Countplot of Categorical Column')\n",
    "plt.xlabel('Categories')\n",
    "plt.ylabel('Count')\n",
    "plt.xticks(rotation=45)\n",
    "plt.show()"
   ]
  },
  {
   "cell_type": "markdown",
   "metadata": {},
   "source": [
    "# Most Of the Patient lies within 'other' category followed by Diabetes."
   ]
  },
  {
   "cell_type": "code",
   "execution_count": 44,
   "metadata": {},
   "outputs": [
    {
     "data": {
      "image/png": "[encoded data removed]",
      "text/plain": [
       "<Figure size 432x288 with 1 Axes>"
      ]
     },
     "metadata": {},
     "output_type": "display_data"
    }
   ],
   "source": [
    "sns.countplot(x='Doctor Gender', data=data)\n",
    "plt.title('Countplot of Categorical Column')\n",
    "plt.xlabel('Categories')\n",
    "plt.ylabel('Count')\n",
    "plt.xticks(rotation=45)\n",
    "plt.show()"
   ]
  },
  {
   "cell_type": "markdown",
   "metadata": {},
   "source": [
    "# Male Doctors are prominent as compared to female doctors for treating the patients"
   ]
  },
  {
   "cell_type": "code",
   "execution_count": 45,
   "metadata": {},
   "outputs": [
    {
     "data": {
      "image/png": "[encoded data removed]",
      "text/plain": [
       "<Figure size 432x288 with 1 Axes>"
      ]
     },
     "metadata": {},
     "output_type": "display_data"
    }
   ],
   "source": [
    "sns.countplot(x='Gender', data=data)\n",
    "plt.title('Countplot of Categorical Column')\n",
    "plt.xlabel('Categories')\n",
    "plt.ylabel('Count')\n",
    "plt.xticks(rotation=45)\n",
    "plt.show()"
   ]
  },
  {
   "cell_type": "markdown",
   "metadata": {},
   "source": [
    "# Male patients are more than female patients from our data"
   ]
  },
  {
   "cell_type": "markdown",
   "metadata": {},
   "source": [
    "# #Patient Segmentation"
   ]
  },
  {
   "cell_type": "code",
   "execution_count": 11,
   "metadata": {},
   "outputs": [],
   "source": [
    "#Imputing null values in height column by group means.\n",
    "\n",
    "grouped_means = data.groupby('Gender')['Height'].transform('mean')\n",
    "data['Height'].fillna(grouped_means, inplace=True)"
   ]
  },
  {
   "cell_type": "code",
   "execution_count": 12,
   "metadata": {},
   "outputs": [],
   "source": [
    "#Imputing null values in Weight column by group means.\n",
    "\n",
    "grouped_means = data.groupby('Gender')['Weight'].transform('mean')\n",
    "data['Weight'].fillna(grouped_means, inplace=True)"
   ]
  },
  {
   "cell_type": "code",
   "execution_count": 13,
   "metadata": {},
   "outputs": [],
   "source": [
    "#Adding a BMI variable from Height and Weight variable.\n",
    "\n",
    "data['BMI'] = data['Weight'] / ((data['Height'] / 100) ** 2)"
   ]
  },
  {
   "cell_type": "code",
   "execution_count": 14,
   "metadata": {},
   "outputs": [],
   "source": [
    "from sklearn.preprocessing import StandardScaler\n",
    "\n",
    "# feature selection for clustering\n",
    "features = data[['BMI','Age']]\n",
    "\n",
    "# Standardize the features\n",
    "scaler = StandardScaler()\n",
    "features_scaled = scaler.fit_transform(features)"
   ]
  },
  {
   "cell_type": "code",
   "execution_count": 15,
   "metadata": {},
   "outputs": [
    {
     "data": {
      "image/png": "[encoded data removed]",
      "text/plain": [
       "<Figure size 432x288 with 1 Axes>"
      ]
     },
     "metadata": {
      "needs_background": "light"
     },
     "output_type": "display_data"
    }
   ],
   "source": [
    "from sklearn.cluster import KMeans\n",
    "import matplotlib.pyplot as plt\n",
    "\n",
    "wcss = []     #Within cluster sum of squares\n",
    "for i in range(1, 11):\n",
    "    kmeans = KMeans(n_clusters=i, init='k-means++', max_iter=300, n_init=10, random_state=0)\n",
    "    kmeans.fit(features_scaled)\n",
    "    wcss.append(kmeans.inertia_)\n",
    "\n",
    "# Plot the Elbow Method graph\n",
    "plt.plot(range(1, 11), wcss)\n",
    "plt.title('Elbow Method')\n",
    "plt.xlabel('Number of clusters')\n",
    "plt.ylabel('WCSS')\n",
    "plt.show()"
   ]
  },
  {
   "cell_type": "code",
   "execution_count": 16,
   "metadata": {},
   "outputs": [
    {
     "name": "stdout",
     "output_type": "stream",
     "text": [
      "Cluster\n",
      "0    2585\n",
      "1    2186\n",
      "2     945\n",
      "Name: count, dtype: int64\n"
     ]
    }
   ],
   "source": [
    "# So Based on Elbow Method \n",
    "k = 3\n",
    "# Apply K-Means clustering\n",
    "kmeans = KMeans(n_clusters=k, init='k-means++', max_iter=300, n_init=10, random_state=0)\n",
    "cluster_labels = kmeans.fit_predict(features_scaled)\n",
    "\n",
    "# Add cluster labels to the original data\n",
    "data['Cluster'] = cluster_labels\n",
    "\n",
    "# Print the count of patients in each cluster\n",
    "print(data['Cluster'].value_counts())"
   ]
  },
  {
   "cell_type": "code",
   "execution_count": 17,
   "metadata": {},
   "outputs": [
    {
     "data": {
      "image/png": "[encoded data removed]",
      "text/plain": [
       "<Figure size 576x432 with 1 Axes>"
      ]
     },
     "metadata": {
      "needs_background": "light"
     },
     "output_type": "display_data"
    }
   ],
   "source": [
    "# Visualize clusters using scatter plot\n",
    "plt.figure(figsize=(8, 6))\n",
    "for cluster in range(k):\n",
    "    cluster_data = data[data['Cluster'] == cluster]\n",
    "    plt.scatter(cluster_data['Age'], cluster_data['BMI'], label=f'Cluster {cluster}')\n",
    "plt.xlabel('Age')\n",
    "plt.ylabel('BMI')\n",
    "plt.title('Clusters of Patients (Age vs BMI)')\n",
    "plt.legend()\n",
    "plt.show()"
   ]
  },
  {
   "cell_type": "markdown",
   "metadata": {},
   "source": [
    "# In summary, K-means clustering is a data exploration and analysis technique that automatically groups data points into clusters based on their similarities. It's a versatile tool with various applications and can provide valuable insights into the underlying structure of your data."
   ]
  }
 ],
 "metadata": {
  "kernelspec": {
   "display_name": "Python 3",
   "language": "python",
   "name": "python3"
  },
  "language_info": {
   "codemirror_mode": {
    "name": "ipython",
    "version": 3
   },
   "file_extension": ".py",
   "mimetype": "text/x-python",
   "name": "python",
   "nbconvert_exporter": "python",
   "pygments_lexer": "ipython3",
   "version": "3.8.5"
  }
 },
 "nbformat": 4,
 "nbformat_minor": 4
}
