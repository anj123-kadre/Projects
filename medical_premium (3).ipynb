{
  "nbformat": 4,
  "nbformat_minor": 0,
  "metadata": {
    "colab": {
      "provenance": []
    },
    "kernelspec": {
      "name": "python3",
      "display_name": "Python 3"
    },
    "language_info": {
      "name": "python"
    }
  },
  "cells": [
    {
      "cell_type": "markdown",
      "metadata": {
        "id": "FMito1Jw0dKI"
      },
      "source": [
        "#MEDICAL PREMIUM PREDICTION"
      ]
    },
    {
      "cell_type": "markdown",
      "metadata": {
        "id": "bUVlU-DS0jaH"
      },
      "source": [
        "#Importing the libraries"
      ]
    },
    {
      "cell_type": "code",
      "metadata": {
        "id": "x4hmVUe10mNu"
      },
      "source": [
        "import numpy as np\n",
        "import matplotlib.pyplot as plt\n",
        "import pandas as pd\n",
        "import seaborn as sns"
      ],
      "execution_count": null,
      "outputs": []
    },
    {
      "cell_type": "markdown",
      "metadata": {
        "id": "f-ZCMG7g1k2e"
      },
      "source": [
        "##Importing the dataset"
      ]
    },
    {
      "cell_type": "code",
      "metadata": {
        "colab": {
          "base_uri": "https://localhost:8080/",
          "height": 223
        },
        "id": "XrHl4aI-1oPg",
        "outputId": "8e85728e-e2fb-415c-a69d-96c0a949607d"
      },
      "source": [
        "dataset = pd.read_csv('/content/Medicalpremium.csv')\n",
        "dataset.head()"
      ],
      "execution_count": null,
      "outputs": [
        {
          "output_type": "execute_result",
          "data": {
            "text/html": [
              "<div>\n",
              "<style scoped>\n",
              "    .dataframe tbody tr th:only-of-type {\n",
              "        vertical-align: middle;\n",
              "    }\n",
              "\n",
              "    .dataframe tbody tr th {\n",
              "        vertical-align: top;\n",
              "    }\n",
              "\n",
              "    .dataframe thead th {\n",
              "        text-align: right;\n",
              "    }\n",
              "</style>\n",
              "<table border=\"1\" class=\"dataframe\">\n",
              "  <thead>\n",
              "    <tr style=\"text-align: right;\">\n",
              "      <th></th>\n",
              "      <th>Age</th>\n",
              "      <th>Diabetes</th>\n",
              "      <th>BloodPressureProblems</th>\n",
              "      <th>AnyTransplants</th>\n",
              "      <th>AnyChronicDiseases</th>\n",
              "      <th>Height</th>\n",
              "      <th>Weight</th>\n",
              "      <th>KnownAllergies</th>\n",
              "      <th>HistoryOfCancerInFamily</th>\n",
              "      <th>NumberOfMajorSurgeries</th>\n",
              "      <th>PremiumPrice</th>\n",
              "    </tr>\n",
              "  </thead>\n",
              "  <tbody>\n",
              "    <tr>\n",
              "      <th>0</th>\n",
              "      <td>45</td>\n",
              "      <td>0</td>\n",
              "      <td>0</td>\n",
              "      <td>0</td>\n",
              "      <td>0</td>\n",
              "      <td>155</td>\n",
              "      <td>57</td>\n",
              "      <td>0</td>\n",
              "      <td>0</td>\n",
              "      <td>0</td>\n",
              "      <td>25000</td>\n",
              "    </tr>\n",
              "    <tr>\n",
              "      <th>1</th>\n",
              "      <td>60</td>\n",
              "      <td>1</td>\n",
              "      <td>0</td>\n",
              "      <td>0</td>\n",
              "      <td>0</td>\n",
              "      <td>180</td>\n",
              "      <td>73</td>\n",
              "      <td>0</td>\n",
              "      <td>0</td>\n",
              "      <td>0</td>\n",
              "      <td>29000</td>\n",
              "    </tr>\n",
              "    <tr>\n",
              "      <th>2</th>\n",
              "      <td>36</td>\n",
              "      <td>1</td>\n",
              "      <td>1</td>\n",
              "      <td>0</td>\n",
              "      <td>0</td>\n",
              "      <td>158</td>\n",
              "      <td>59</td>\n",
              "      <td>0</td>\n",
              "      <td>0</td>\n",
              "      <td>1</td>\n",
              "      <td>23000</td>\n",
              "    </tr>\n",
              "    <tr>\n",
              "      <th>3</th>\n",
              "      <td>52</td>\n",
              "      <td>1</td>\n",
              "      <td>1</td>\n",
              "      <td>0</td>\n",
              "      <td>1</td>\n",
              "      <td>183</td>\n",
              "      <td>93</td>\n",
              "      <td>0</td>\n",
              "      <td>0</td>\n",
              "      <td>2</td>\n",
              "      <td>28000</td>\n",
              "    </tr>\n",
              "    <tr>\n",
              "      <th>4</th>\n",
              "      <td>38</td>\n",
              "      <td>0</td>\n",
              "      <td>0</td>\n",
              "      <td>0</td>\n",
              "      <td>1</td>\n",
              "      <td>166</td>\n",
              "      <td>88</td>\n",
              "      <td>0</td>\n",
              "      <td>0</td>\n",
              "      <td>1</td>\n",
              "      <td>23000</td>\n",
              "    </tr>\n",
              "  </tbody>\n",
              "</table>\n",
              "</div>"
            ],
            "text/plain": [
              "   Age  Diabetes  ...  NumberOfMajorSurgeries  PremiumPrice\n",
              "0   45         0  ...                       0         25000\n",
              "1   60         1  ...                       0         29000\n",
              "2   36         1  ...                       1         23000\n",
              "3   52         1  ...                       2         28000\n",
              "4   38         0  ...                       1         23000\n",
              "\n",
              "[5 rows x 11 columns]"
            ]
          },
          "metadata": {
            "tags": []
          },
          "execution_count": 37
        }
      ]
    },
    {
      "cell_type": "code",
      "metadata": {
        "colab": {
          "base_uri": "https://localhost:8080/",
          "height": 315
        },
        "id": "QIe-b8Ny14eP",
        "outputId": "b6286c16-3f4e-40c9-a43a-8883839e12ba"
      },
      "source": [
        "dataset.describe()"
      ],
      "execution_count": null,
      "outputs": [
        {
          "output_type": "execute_result",
          "data": {
            "text/html": [
              "<div>\n",
              "<style scoped>\n",
              "    .dataframe tbody tr th:only-of-type {\n",
              "        vertical-align: middle;\n",
              "    }\n",
              "\n",
              "    .dataframe tbody tr th {\n",
              "        vertical-align: top;\n",
              "    }\n",
              "\n",
              "    .dataframe thead th {\n",
              "        text-align: right;\n",
              "    }\n",
              "</style>\n",
              "<table border=\"1\" class=\"dataframe\">\n",
              "  <thead>\n",
              "    <tr style=\"text-align: right;\">\n",
              "      <th></th>\n",
              "      <th>Age</th>\n",
              "      <th>Diabetes</th>\n",
              "      <th>BloodPressureProblems</th>\n",
              "      <th>AnyTransplants</th>\n",
              "      <th>AnyChronicDiseases</th>\n",
              "      <th>Height</th>\n",
              "      <th>Weight</th>\n",
              "      <th>KnownAllergies</th>\n",
              "      <th>HistoryOfCancerInFamily</th>\n",
              "      <th>NumberOfMajorSurgeries</th>\n",
              "      <th>PremiumPrice</th>\n",
              "    </tr>\n",
              "  </thead>\n",
              "  <tbody>\n",
              "    <tr>\n",
              "      <th>count</th>\n",
              "      <td>986.000000</td>\n",
              "      <td>986.000000</td>\n",
              "      <td>986.000000</td>\n",
              "      <td>986.000000</td>\n",
              "      <td>986.000000</td>\n",
              "      <td>986.000000</td>\n",
              "      <td>986.000000</td>\n",
              "      <td>986.000000</td>\n",
              "      <td>986.000000</td>\n",
              "      <td>986.000000</td>\n",
              "      <td>986.000000</td>\n",
              "    </tr>\n",
              "    <tr>\n",
              "      <th>mean</th>\n",
              "      <td>41.745436</td>\n",
              "      <td>0.419878</td>\n",
              "      <td>0.468560</td>\n",
              "      <td>0.055781</td>\n",
              "      <td>0.180527</td>\n",
              "      <td>168.182556</td>\n",
              "      <td>76.950304</td>\n",
              "      <td>0.215010</td>\n",
              "      <td>0.117647</td>\n",
              "      <td>0.667343</td>\n",
              "      <td>24336.713996</td>\n",
              "    </tr>\n",
              "    <tr>\n",
              "      <th>std</th>\n",
              "      <td>13.963371</td>\n",
              "      <td>0.493789</td>\n",
              "      <td>0.499264</td>\n",
              "      <td>0.229615</td>\n",
              "      <td>0.384821</td>\n",
              "      <td>10.098155</td>\n",
              "      <td>14.265096</td>\n",
              "      <td>0.411038</td>\n",
              "      <td>0.322353</td>\n",
              "      <td>0.749205</td>\n",
              "      <td>6248.184382</td>\n",
              "    </tr>\n",
              "    <tr>\n",
              "      <th>min</th>\n",
              "      <td>18.000000</td>\n",
              "      <td>0.000000</td>\n",
              "      <td>0.000000</td>\n",
              "      <td>0.000000</td>\n",
              "      <td>0.000000</td>\n",
              "      <td>145.000000</td>\n",
              "      <td>51.000000</td>\n",
              "      <td>0.000000</td>\n",
              "      <td>0.000000</td>\n",
              "      <td>0.000000</td>\n",
              "      <td>15000.000000</td>\n",
              "    </tr>\n",
              "    <tr>\n",
              "      <th>25%</th>\n",
              "      <td>30.000000</td>\n",
              "      <td>0.000000</td>\n",
              "      <td>0.000000</td>\n",
              "      <td>0.000000</td>\n",
              "      <td>0.000000</td>\n",
              "      <td>161.000000</td>\n",
              "      <td>67.000000</td>\n",
              "      <td>0.000000</td>\n",
              "      <td>0.000000</td>\n",
              "      <td>0.000000</td>\n",
              "      <td>21000.000000</td>\n",
              "    </tr>\n",
              "    <tr>\n",
              "      <th>50%</th>\n",
              "      <td>42.000000</td>\n",
              "      <td>0.000000</td>\n",
              "      <td>0.000000</td>\n",
              "      <td>0.000000</td>\n",
              "      <td>0.000000</td>\n",
              "      <td>168.000000</td>\n",
              "      <td>75.000000</td>\n",
              "      <td>0.000000</td>\n",
              "      <td>0.000000</td>\n",
              "      <td>1.000000</td>\n",
              "      <td>23000.000000</td>\n",
              "    </tr>\n",
              "    <tr>\n",
              "      <th>75%</th>\n",
              "      <td>53.000000</td>\n",
              "      <td>1.000000</td>\n",
              "      <td>1.000000</td>\n",
              "      <td>0.000000</td>\n",
              "      <td>0.000000</td>\n",
              "      <td>176.000000</td>\n",
              "      <td>87.000000</td>\n",
              "      <td>0.000000</td>\n",
              "      <td>0.000000</td>\n",
              "      <td>1.000000</td>\n",
              "      <td>28000.000000</td>\n",
              "    </tr>\n",
              "    <tr>\n",
              "      <th>max</th>\n",
              "      <td>66.000000</td>\n",
              "      <td>1.000000</td>\n",
              "      <td>1.000000</td>\n",
              "      <td>1.000000</td>\n",
              "      <td>1.000000</td>\n",
              "      <td>188.000000</td>\n",
              "      <td>132.000000</td>\n",
              "      <td>1.000000</td>\n",
              "      <td>1.000000</td>\n",
              "      <td>3.000000</td>\n",
              "      <td>40000.000000</td>\n",
              "    </tr>\n",
              "  </tbody>\n",
              "</table>\n",
              "</div>"
            ],
            "text/plain": [
              "              Age    Diabetes  ...  NumberOfMajorSurgeries  PremiumPrice\n",
              "count  986.000000  986.000000  ...              986.000000    986.000000\n",
              "mean    41.745436    0.419878  ...                0.667343  24336.713996\n",
              "std     13.963371    0.493789  ...                0.749205   6248.184382\n",
              "min     18.000000    0.000000  ...                0.000000  15000.000000\n",
              "25%     30.000000    0.000000  ...                0.000000  21000.000000\n",
              "50%     42.000000    0.000000  ...                1.000000  23000.000000\n",
              "75%     53.000000    1.000000  ...                1.000000  28000.000000\n",
              "max     66.000000    1.000000  ...                3.000000  40000.000000\n",
              "\n",
              "[8 rows x 11 columns]"
            ]
          },
          "metadata": {
            "tags": []
          },
          "execution_count": 3
        }
      ]
    },
    {
      "cell_type": "markdown",
      "metadata": {
        "id": "1tlo_esR18YU"
      },
      "source": [
        "#Cheking missing values"
      ]
    },
    {
      "cell_type": "code",
      "metadata": {
        "colab": {
          "base_uri": "https://localhost:8080/"
        },
        "id": "m-t2p5kw2MSs",
        "outputId": "f1c94327-f509-4aa7-d759-b248ef5cadb7"
      },
      "source": [
        "dataset.isnull().sum()"
      ],
      "execution_count": null,
      "outputs": [
        {
          "output_type": "execute_result",
          "data": {
            "text/plain": [
              "Age                        0\n",
              "Diabetes                   0\n",
              "BloodPressureProblems      0\n",
              "AnyTransplants             0\n",
              "AnyChronicDiseases         0\n",
              "Height                     0\n",
              "Weight                     0\n",
              "KnownAllergies             0\n",
              "HistoryOfCancerInFamily    0\n",
              "NumberOfMajorSurgeries     0\n",
              "PremiumPrice               0\n",
              "dtype: int64"
            ]
          },
          "metadata": {
            "tags": []
          },
          "execution_count": 4
        }
      ]
    },
    {
      "cell_type": "markdown",
      "metadata": {
        "id": "WlvffTyG2SX6"
      },
      "source": [
        "#Heatmap"
      ]
    },
    {
      "cell_type": "code",
      "metadata": {
        "colab": {
          "base_uri": "https://localhost:8080/",
          "height": 615
        },
        "id": "FTe5J5Ny2dih",
        "outputId": "ff35a236-800d-4f02-aa7b-a2ece918b45e"
      },
      "source": [
        "plt.figure(figsize=(14,8))\n",
        "sns.heatmap(dataset.corr(), annot = True, cmap='coolwarm',linewidths=.1)\n",
        "plt.title(\"Heatmap for correlation between columns\")\n",
        "plt.show()"
      ],
      "execution_count": null,
      "outputs": [
        {
          "output_type": "display_data",
          "data": {
            "image/png": "[encoded data removed]",
            "text/plain": [
              "<Figure size 1008x576 with 2 Axes>"
            ]
          },
          "metadata": {
            "tags": [],
            "needs_background": "light"
          }
        }
      ]
    },
    {
      "cell_type": "markdown",
      "metadata": {
        "id": "ORXLlLkQ3dhf"
      },
      "source": [
        "#Initialising the variable"
      ]
    },
    {
      "cell_type": "code",
      "metadata": {
        "id": "WaQ-kHRE3pcM"
      },
      "source": [
        "X = dataset.drop('PremiumPrice',axis=1)\n",
        "y = dataset.PremiumPrice"
      ],
      "execution_count": null,
      "outputs": []
    },
    {
      "cell_type": "markdown",
      "metadata": {
        "id": "Jj5TcBxw34fu"
      },
      "source": [
        "#Normalization"
      ]
    },
    {
      "cell_type": "code",
      "metadata": {
        "colab": {
          "base_uri": "https://localhost:8080/",
          "height": 223
        },
        "id": "-KAz9Fgf4lXl",
        "outputId": "fa9b8b66-4cb0-4d60-f4f2-577821edda2d"
      },
      "source": [
        "from sklearn.preprocessing import MinMaxScaler\n",
        "min_max=MinMaxScaler()\n",
        "dataset_minmax=pd.DataFrame(min_max.fit_transform(dataset),columns=dataset.columns)\n",
        "dataset_minmax.head()"
      ],
      "execution_count": null,
      "outputs": [
        {
          "output_type": "execute_result",
          "data": {
            "text/html": [
              "<div>\n",
              "<style scoped>\n",
              "    .dataframe tbody tr th:only-of-type {\n",
              "        vertical-align: middle;\n",
              "    }\n",
              "\n",
              "    .dataframe tbody tr th {\n",
              "        vertical-align: top;\n",
              "    }\n",
              "\n",
              "    .dataframe thead th {\n",
              "        text-align: right;\n",
              "    }\n",
              "</style>\n",
              "<table border=\"1\" class=\"dataframe\">\n",
              "  <thead>\n",
              "    <tr style=\"text-align: right;\">\n",
              "      <th></th>\n",
              "      <th>Age</th>\n",
              "      <th>Diabetes</th>\n",
              "      <th>BloodPressureProblems</th>\n",
              "      <th>AnyTransplants</th>\n",
              "      <th>AnyChronicDiseases</th>\n",
              "      <th>Height</th>\n",
              "      <th>Weight</th>\n",
              "      <th>KnownAllergies</th>\n",
              "      <th>HistoryOfCancerInFamily</th>\n",
              "      <th>NumberOfMajorSurgeries</th>\n",
              "      <th>PremiumPrice</th>\n",
              "    </tr>\n",
              "  </thead>\n",
              "  <tbody>\n",
              "    <tr>\n",
              "      <th>0</th>\n",
              "      <td>0.562500</td>\n",
              "      <td>0.0</td>\n",
              "      <td>0.0</td>\n",
              "      <td>0.0</td>\n",
              "      <td>0.0</td>\n",
              "      <td>0.232558</td>\n",
              "      <td>0.074074</td>\n",
              "      <td>0.0</td>\n",
              "      <td>0.0</td>\n",
              "      <td>0.000000</td>\n",
              "      <td>0.40</td>\n",
              "    </tr>\n",
              "    <tr>\n",
              "      <th>1</th>\n",
              "      <td>0.875000</td>\n",
              "      <td>1.0</td>\n",
              "      <td>0.0</td>\n",
              "      <td>0.0</td>\n",
              "      <td>0.0</td>\n",
              "      <td>0.813953</td>\n",
              "      <td>0.271605</td>\n",
              "      <td>0.0</td>\n",
              "      <td>0.0</td>\n",
              "      <td>0.000000</td>\n",
              "      <td>0.56</td>\n",
              "    </tr>\n",
              "    <tr>\n",
              "      <th>2</th>\n",
              "      <td>0.375000</td>\n",
              "      <td>1.0</td>\n",
              "      <td>1.0</td>\n",
              "      <td>0.0</td>\n",
              "      <td>0.0</td>\n",
              "      <td>0.302326</td>\n",
              "      <td>0.098765</td>\n",
              "      <td>0.0</td>\n",
              "      <td>0.0</td>\n",
              "      <td>0.333333</td>\n",
              "      <td>0.32</td>\n",
              "    </tr>\n",
              "    <tr>\n",
              "      <th>3</th>\n",
              "      <td>0.708333</td>\n",
              "      <td>1.0</td>\n",
              "      <td>1.0</td>\n",
              "      <td>0.0</td>\n",
              "      <td>1.0</td>\n",
              "      <td>0.883721</td>\n",
              "      <td>0.518519</td>\n",
              "      <td>0.0</td>\n",
              "      <td>0.0</td>\n",
              "      <td>0.666667</td>\n",
              "      <td>0.52</td>\n",
              "    </tr>\n",
              "    <tr>\n",
              "      <th>4</th>\n",
              "      <td>0.416667</td>\n",
              "      <td>0.0</td>\n",
              "      <td>0.0</td>\n",
              "      <td>0.0</td>\n",
              "      <td>1.0</td>\n",
              "      <td>0.488372</td>\n",
              "      <td>0.456790</td>\n",
              "      <td>0.0</td>\n",
              "      <td>0.0</td>\n",
              "      <td>0.333333</td>\n",
              "      <td>0.32</td>\n",
              "    </tr>\n",
              "  </tbody>\n",
              "</table>\n",
              "</div>"
            ],
            "text/plain": [
              "        Age  Diabetes  ...  NumberOfMajorSurgeries  PremiumPrice\n",
              "0  0.562500       0.0  ...                0.000000          0.40\n",
              "1  0.875000       1.0  ...                0.000000          0.56\n",
              "2  0.375000       1.0  ...                0.333333          0.32\n",
              "3  0.708333       1.0  ...                0.666667          0.52\n",
              "4  0.416667       0.0  ...                0.333333          0.32\n",
              "\n",
              "[5 rows x 11 columns]"
            ]
          },
          "metadata": {
            "tags": []
          },
          "execution_count": 12
        }
      ]
    },
    {
      "cell_type": "markdown",
      "metadata": {
        "id": "AmW01wTJ42k0"
      },
      "source": [
        "#Splitting the dataset into the Training set and Test set"
      ]
    },
    {
      "cell_type": "code",
      "metadata": {
        "id": "YY4eDA-u43mN"
      },
      "source": [
        "from sklearn.model_selection import train_test_split\n",
        "X_train, X_test, y_train, y_test = train_test_split(X, y, test_size = 0.2, random_state = 0)"
      ],
      "execution_count": null,
      "outputs": []
    },
    {
      "cell_type": "markdown",
      "metadata": {
        "id": "KHZzg3mHBkal"
      },
      "source": [
        "#Training the dataset using linear regression"
      ]
    },
    {
      "cell_type": "code",
      "metadata": {
        "colab": {
          "base_uri": "https://localhost:8080/"
        },
        "id": "-9Yx7J-tAcDD",
        "outputId": "60e56740-b3bf-4746-ddcf-19ea0950a8a0"
      },
      "source": [
        "from sklearn.linear_model import LinearRegression\n",
        "multiple_reg = LinearRegression()\n",
        "multiple_reg.fit(X_train, y_train)"
      ],
      "execution_count": null,
      "outputs": [
        {
          "output_type": "execute_result",
          "data": {
            "text/plain": [
              "LinearRegression(copy_X=True, fit_intercept=True, n_jobs=None, normalize=False)"
            ]
          },
          "metadata": {
            "tags": []
          },
          "execution_count": 27
        }
      ]
    },
    {
      "cell_type": "markdown",
      "metadata": {
        "id": "baWO91BCBrR7"
      },
      "source": [
        "#Testing"
      ]
    },
    {
      "cell_type": "code",
      "metadata": {
        "id": "5sjC9cckAiYI"
      },
      "source": [
        "y_pred = multiple_reg.predict(X_test)"
      ],
      "execution_count": null,
      "outputs": []
    },
    {
      "cell_type": "markdown",
      "metadata": {
        "id": "9dbGB8jiB5ON"
      },
      "source": [
        "#Calculating the coefficients"
      ]
    },
    {
      "cell_type": "code",
      "metadata": {
        "colab": {
          "base_uri": "https://localhost:8080/"
        },
        "id": "H9gYrIawB1N8",
        "outputId": "40cca2aa-dfbd-4b4e-da02-e498b67530f7"
      },
      "source": [
        "multiple_reg.coef_"
      ],
      "execution_count": null,
      "outputs": [
        {
          "output_type": "execute_result",
          "data": {
            "text/plain": [
              "array([ 330.75363081, -386.17073412,  289.04694182, 7275.6881883 ,\n",
              "       2787.94139413,   -9.08183154,   66.42704556,  343.28036754,\n",
              "       2183.22830822, -638.82932302])"
            ]
          },
          "metadata": {
            "tags": []
          },
          "execution_count": 33
        }
      ]
    },
    {
      "cell_type": "markdown",
      "metadata": {
        "id": "b1I9blf8B9_m"
      },
      "source": [
        "#Calculating the intercept"
      ]
    },
    {
      "cell_type": "code",
      "metadata": {
        "colab": {
          "base_uri": "https://localhost:8080/"
        },
        "id": "6l2svj3ECAy1",
        "outputId": "415474e0-9adc-470c-8f5d-52d5cd4fea58"
      },
      "source": [
        "multiple_reg.intercept_"
      ],
      "execution_count": null,
      "outputs": [
        {
          "output_type": "execute_result",
          "data": {
            "text/plain": [
              "6072.119237054227"
            ]
          },
          "metadata": {
            "tags": []
          },
          "execution_count": 34
        }
      ]
    },
    {
      "cell_type": "markdown",
      "metadata": {
        "id": "am30h9_JCD1M"
      },
      "source": [
        "#Calculating the R squared value"
      ]
    },
    {
      "cell_type": "code",
      "metadata": {
        "colab": {
          "base_uri": "https://localhost:8080/"
        },
        "id": "MKsq4ypoCIVD",
        "outputId": "9e087653-d569-4498-b20b-0520714b4c75"
      },
      "source": [
        "from sklearn.metrics import r2_score\n",
        "r2_score(y_test, y_pred)"
      ],
      "execution_count": null,
      "outputs": [
        {
          "output_type": "execute_result",
          "data": {
            "text/plain": [
              "0.610368716071813"
            ]
          },
          "metadata": {
            "tags": []
          },
          "execution_count": 35
        }
      ]
    },
    {
      "cell_type": "markdown",
      "metadata": {
        "id": "dni6IMypCN_r"
      },
      "source": [
        "#Predicting new values"
      ]
    },
    {
      "cell_type": "code",
      "metadata": {
        "colab": {
          "base_uri": "https://localhost:8080/"
        },
        "id": "RZD0B54YAsbz",
        "outputId": "5394617b-f0c5-4e22-c1d8-e5d778df3ef0"
      },
      "source": [
        "output = multiple_reg.predict([[45,0,0,0,0,155,57,0,0,0]])\n",
        "output"
      ],
      "execution_count": null,
      "outputs": [
        {
          "output_type": "execute_result",
          "data": {
            "text/plain": [
              "array([23334.69033177])"
            ]
          },
          "metadata": {
            "tags": []
          },
          "execution_count": 30
        }
      ]
    },
    {
      "cell_type": "code",
      "metadata": {
        "colab": {
          "base_uri": "https://localhost:8080/"
        },
        "id": "xb769-bVBEOC",
        "outputId": "2e63ef06-cb3f-4401-f2c2-e2528f116b1a"
      },
      "source": [
        "output = multiple_reg.predict([[38,1,1,1,1,166,88,0,1,1]])\n",
        "output"
      ],
      "execution_count": null,
      "outputs": [
        {
          "output_type": "execute_result",
          "data": {
            "text/plain": [
              "array([34489.65795682])"
            ]
          },
          "metadata": {
            "tags": []
          },
          "execution_count": 32
        }
      ]
    }
  ]
}